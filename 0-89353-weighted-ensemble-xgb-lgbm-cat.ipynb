{
 "cells": [
  {
   "cell_type": "code",
   "execution_count": 1,
   "id": "d2a9cea2",
   "metadata": {
    "_cell_guid": "b1076dfc-b9ad-4769-8c92-a6c4dae69d19",
    "_uuid": "8f2839f25d086af736a60e9eeb907d3b93b6e0e5",
    "execution": {
     "iopub.execute_input": "2024-03-05T14:50:54.274092Z",
     "iopub.status.busy": "2024-03-05T14:50:54.273404Z",
     "iopub.status.idle": "2024-03-05T14:50:58.284997Z",
     "shell.execute_reply": "2024-03-05T14:50:58.283471Z"
    },
    "papermill": {
     "duration": 4.030645,
     "end_time": "2024-03-05T14:50:58.287838",
     "exception": false,
     "start_time": "2024-03-05T14:50:54.257193",
     "status": "completed"
    },
    "tags": []
   },
   "outputs": [],
   "source": [
    "# Preprocessing\n",
    "from sklearn.model_selection import train_test_split, GridSearchCV, RepeatedStratifiedKFold, StratifiedKFold\n",
    "from sklearn.preprocessing import StandardScaler, FunctionTransformer, OneHotEncoder, LabelEncoder\n",
    "from sklearn.compose import ColumnTransformer\n",
    "from sklearn.utils.class_weight import compute_class_weight\n",
    "from sklearn.ensemble import VotingClassifier, StackingClassifier\n",
    "\n",
    "# Target encoding/decoding\n",
    "from sklearn.base import BaseEstimator, TransformerMixin\n",
    "\n",
    "# Metrics\n",
    "from sklearn.metrics import roc_auc_score, accuracy_score, confusion_matrix, auc, roc_curve, log_loss\n",
    "\n",
    "# Models\n",
    "from xgboost import XGBClassifier\n",
    "from lightgbm import LGBMClassifier, plot_importance\n",
    "from catboost import CatBoostClassifier\n",
    "\n",
    "# Visualization\n",
    "import matplotlib.pyplot as plt\n",
    "import seaborn as sns\n",
    "\n",
    "# Math and DataFrame\n",
    "import pandas as pd\n",
    "import numpy as np\n",
    "\n",
    "# Warnings ignore\n",
    "import warnings\n",
    "warnings.filterwarnings(\"ignore\")"
   ]
  },
  {
   "cell_type": "markdown",
   "id": "e8b64932",
   "metadata": {
    "papermill": {
     "duration": 0.01369,
     "end_time": "2024-03-05T14:50:58.316248",
     "exception": false,
     "start_time": "2024-03-05T14:50:58.302558",
     "status": "completed"
    },
    "tags": []
   },
   "source": [
    "# Load Original Dataset"
   ]
  },
  {
   "cell_type": "code",
   "execution_count": 2,
   "id": "f532397e",
   "metadata": {
    "execution": {
     "iopub.execute_input": "2024-03-05T14:50:58.346325Z",
     "iopub.status.busy": "2024-03-05T14:50:58.345719Z",
     "iopub.status.idle": "2024-03-05T14:50:58.747795Z",
     "shell.execute_reply": "2024-03-05T14:50:58.746650Z"
    },
    "papermill": {
     "duration": 0.420372,
     "end_time": "2024-03-05T14:50:58.750542",
     "exception": false,
     "start_time": "2024-03-05T14:50:58.330170",
     "status": "completed"
    },
    "tags": []
   },
   "outputs": [
    {
     "data": {
      "text/html": [
       "<div>\n",
       "<style scoped>\n",
       "    .dataframe tbody tr th:only-of-type {\n",
       "        vertical-align: middle;\n",
       "    }\n",
       "\n",
       "    .dataframe tbody tr th {\n",
       "        vertical-align: top;\n",
       "    }\n",
       "\n",
       "    .dataframe thead th {\n",
       "        text-align: right;\n",
       "    }\n",
       "</style>\n",
       "<table border=\"1\" class=\"dataframe\">\n",
       "  <thead>\n",
       "    <tr style=\"text-align: right;\">\n",
       "      <th></th>\n",
       "      <th>id</th>\n",
       "      <th>X_Minimum</th>\n",
       "      <th>X_Maximum</th>\n",
       "      <th>Y_Minimum</th>\n",
       "      <th>Y_Maximum</th>\n",
       "      <th>Pixels_Areas</th>\n",
       "      <th>X_Perimeter</th>\n",
       "      <th>Y_Perimeter</th>\n",
       "      <th>Sum_of_Luminosity</th>\n",
       "      <th>Minimum_of_Luminosity</th>\n",
       "      <th>...</th>\n",
       "      <th>Orientation_Index</th>\n",
       "      <th>Luminosity_Index</th>\n",
       "      <th>SigmoidOfAreas</th>\n",
       "      <th>Pastry</th>\n",
       "      <th>Z_Scratch</th>\n",
       "      <th>K_Scatch</th>\n",
       "      <th>Stains</th>\n",
       "      <th>Dirtiness</th>\n",
       "      <th>Bumps</th>\n",
       "      <th>Other_Faults</th>\n",
       "    </tr>\n",
       "  </thead>\n",
       "  <tbody>\n",
       "    <tr>\n",
       "      <th>0</th>\n",
       "      <td>0</td>\n",
       "      <td>584</td>\n",
       "      <td>590</td>\n",
       "      <td>909972</td>\n",
       "      <td>909977</td>\n",
       "      <td>16</td>\n",
       "      <td>8</td>\n",
       "      <td>5</td>\n",
       "      <td>2274</td>\n",
       "      <td>113</td>\n",
       "      <td>...</td>\n",
       "      <td>-0.5000</td>\n",
       "      <td>-0.0104</td>\n",
       "      <td>0.1417</td>\n",
       "      <td>0</td>\n",
       "      <td>0</td>\n",
       "      <td>0</td>\n",
       "      <td>1</td>\n",
       "      <td>0</td>\n",
       "      <td>0</td>\n",
       "      <td>0</td>\n",
       "    </tr>\n",
       "    <tr>\n",
       "      <th>1</th>\n",
       "      <td>1</td>\n",
       "      <td>808</td>\n",
       "      <td>816</td>\n",
       "      <td>728350</td>\n",
       "      <td>728372</td>\n",
       "      <td>433</td>\n",
       "      <td>20</td>\n",
       "      <td>54</td>\n",
       "      <td>44478</td>\n",
       "      <td>70</td>\n",
       "      <td>...</td>\n",
       "      <td>0.7419</td>\n",
       "      <td>-0.2997</td>\n",
       "      <td>0.9491</td>\n",
       "      <td>0</td>\n",
       "      <td>0</td>\n",
       "      <td>0</td>\n",
       "      <td>0</td>\n",
       "      <td>0</td>\n",
       "      <td>0</td>\n",
       "      <td>1</td>\n",
       "    </tr>\n",
       "    <tr>\n",
       "      <th>2</th>\n",
       "      <td>2</td>\n",
       "      <td>39</td>\n",
       "      <td>192</td>\n",
       "      <td>2212076</td>\n",
       "      <td>2212144</td>\n",
       "      <td>11388</td>\n",
       "      <td>705</td>\n",
       "      <td>420</td>\n",
       "      <td>1311391</td>\n",
       "      <td>29</td>\n",
       "      <td>...</td>\n",
       "      <td>-0.0105</td>\n",
       "      <td>-0.0944</td>\n",
       "      <td>1.0000</td>\n",
       "      <td>0</td>\n",
       "      <td>0</td>\n",
       "      <td>1</td>\n",
       "      <td>0</td>\n",
       "      <td>0</td>\n",
       "      <td>0</td>\n",
       "      <td>0</td>\n",
       "    </tr>\n",
       "    <tr>\n",
       "      <th>3</th>\n",
       "      <td>3</td>\n",
       "      <td>781</td>\n",
       "      <td>789</td>\n",
       "      <td>3353146</td>\n",
       "      <td>3353173</td>\n",
       "      <td>210</td>\n",
       "      <td>16</td>\n",
       "      <td>29</td>\n",
       "      <td>3202</td>\n",
       "      <td>114</td>\n",
       "      <td>...</td>\n",
       "      <td>0.6667</td>\n",
       "      <td>-0.0402</td>\n",
       "      <td>0.4025</td>\n",
       "      <td>0</td>\n",
       "      <td>0</td>\n",
       "      <td>1</td>\n",
       "      <td>0</td>\n",
       "      <td>0</td>\n",
       "      <td>0</td>\n",
       "      <td>0</td>\n",
       "    </tr>\n",
       "    <tr>\n",
       "      <th>4</th>\n",
       "      <td>4</td>\n",
       "      <td>1540</td>\n",
       "      <td>1560</td>\n",
       "      <td>618457</td>\n",
       "      <td>618502</td>\n",
       "      <td>521</td>\n",
       "      <td>72</td>\n",
       "      <td>67</td>\n",
       "      <td>48231</td>\n",
       "      <td>82</td>\n",
       "      <td>...</td>\n",
       "      <td>0.9158</td>\n",
       "      <td>-0.2455</td>\n",
       "      <td>0.9998</td>\n",
       "      <td>0</td>\n",
       "      <td>0</td>\n",
       "      <td>0</td>\n",
       "      <td>0</td>\n",
       "      <td>0</td>\n",
       "      <td>0</td>\n",
       "      <td>1</td>\n",
       "    </tr>\n",
       "  </tbody>\n",
       "</table>\n",
       "<p>5 rows × 35 columns</p>\n",
       "</div>"
      ],
      "text/plain": [
       "   id  X_Minimum  X_Maximum  Y_Minimum  Y_Maximum  Pixels_Areas  X_Perimeter  \\\n",
       "0   0        584        590     909972     909977            16            8   \n",
       "1   1        808        816     728350     728372           433           20   \n",
       "2   2         39        192    2212076    2212144         11388          705   \n",
       "3   3        781        789    3353146    3353173           210           16   \n",
       "4   4       1540       1560     618457     618502           521           72   \n",
       "\n",
       "   Y_Perimeter  Sum_of_Luminosity  Minimum_of_Luminosity  ...  \\\n",
       "0            5               2274                    113  ...   \n",
       "1           54              44478                     70  ...   \n",
       "2          420            1311391                     29  ...   \n",
       "3           29               3202                    114  ...   \n",
       "4           67              48231                     82  ...   \n",
       "\n",
       "   Orientation_Index  Luminosity_Index  SigmoidOfAreas  Pastry  Z_Scratch  \\\n",
       "0            -0.5000           -0.0104          0.1417       0          0   \n",
       "1             0.7419           -0.2997          0.9491       0          0   \n",
       "2            -0.0105           -0.0944          1.0000       0          0   \n",
       "3             0.6667           -0.0402          0.4025       0          0   \n",
       "4             0.9158           -0.2455          0.9998       0          0   \n",
       "\n",
       "   K_Scatch  Stains  Dirtiness  Bumps  Other_Faults  \n",
       "0         0       1          0      0             0  \n",
       "1         0       0          0      0             1  \n",
       "2         1       0          0      0             0  \n",
       "3         1       0          0      0             0  \n",
       "4         0       0          0      0             1  \n",
       "\n",
       "[5 rows x 35 columns]"
      ]
     },
     "execution_count": 2,
     "metadata": {},
     "output_type": "execute_result"
    }
   ],
   "source": [
    "train = pd.read_csv('/kaggle/input/playground-series-s4e3/train.csv')\n",
    "test = pd.read_csv('/kaggle/input/playground-series-s4e3/test.csv')\n",
    "original = pd.read_csv('/kaggle/input/steel-plates-faults-dataset/steel_plates_faults_original_dataset.csv')\n",
    "train.head()"
   ]
  },
  {
   "cell_type": "code",
   "execution_count": 3,
   "id": "506e7cba",
   "metadata": {
    "execution": {
     "iopub.execute_input": "2024-03-05T14:50:58.782312Z",
     "iopub.status.busy": "2024-03-05T14:50:58.781905Z",
     "iopub.status.idle": "2024-03-05T14:50:58.787395Z",
     "shell.execute_reply": "2024-03-05T14:50:58.786646Z"
    },
    "papermill": {
     "duration": 0.024882,
     "end_time": "2024-03-05T14:50:58.789952",
     "exception": false,
     "start_time": "2024-03-05T14:50:58.765070",
     "status": "completed"
    },
    "tags": []
   },
   "outputs": [
    {
     "data": {
      "text/plain": [
       "(19219, 35)"
      ]
     },
     "execution_count": 3,
     "metadata": {},
     "output_type": "execute_result"
    }
   ],
   "source": [
    "train.shape"
   ]
  },
  {
   "cell_type": "code",
   "execution_count": 4,
   "id": "1262c62d",
   "metadata": {
    "execution": {
     "iopub.execute_input": "2024-03-05T14:50:58.821325Z",
     "iopub.status.busy": "2024-03-05T14:50:58.820339Z",
     "iopub.status.idle": "2024-03-05T14:50:58.884801Z",
     "shell.execute_reply": "2024-03-05T14:50:58.883570Z"
    },
    "papermill": {
     "duration": 0.082898,
     "end_time": "2024-03-05T14:50:58.887410",
     "exception": false,
     "start_time": "2024-03-05T14:50:58.804512",
     "status": "completed"
    },
    "tags": []
   },
   "outputs": [
    {
     "data": {
      "text/html": [
       "<div>\n",
       "<style scoped>\n",
       "    .dataframe tbody tr th:only-of-type {\n",
       "        vertical-align: middle;\n",
       "    }\n",
       "\n",
       "    .dataframe tbody tr th {\n",
       "        vertical-align: top;\n",
       "    }\n",
       "\n",
       "    .dataframe thead th {\n",
       "        text-align: right;\n",
       "    }\n",
       "</style>\n",
       "<table border=\"1\" class=\"dataframe\">\n",
       "  <thead>\n",
       "    <tr style=\"text-align: right;\">\n",
       "      <th></th>\n",
       "      <th>id</th>\n",
       "      <th>X_Minimum</th>\n",
       "      <th>X_Maximum</th>\n",
       "      <th>Y_Minimum</th>\n",
       "      <th>Y_Maximum</th>\n",
       "      <th>Pixels_Areas</th>\n",
       "      <th>X_Perimeter</th>\n",
       "      <th>Y_Perimeter</th>\n",
       "      <th>Sum_of_Luminosity</th>\n",
       "      <th>Minimum_of_Luminosity</th>\n",
       "      <th>...</th>\n",
       "      <th>Orientation_Index</th>\n",
       "      <th>Luminosity_Index</th>\n",
       "      <th>SigmoidOfAreas</th>\n",
       "      <th>Pastry</th>\n",
       "      <th>Z_Scratch</th>\n",
       "      <th>K_Scatch</th>\n",
       "      <th>Stains</th>\n",
       "      <th>Dirtiness</th>\n",
       "      <th>Bumps</th>\n",
       "      <th>Other_Faults</th>\n",
       "    </tr>\n",
       "  </thead>\n",
       "  <tbody>\n",
       "    <tr>\n",
       "      <th>0</th>\n",
       "      <td>0</td>\n",
       "      <td>584</td>\n",
       "      <td>590</td>\n",
       "      <td>909972</td>\n",
       "      <td>909977</td>\n",
       "      <td>16</td>\n",
       "      <td>8</td>\n",
       "      <td>5</td>\n",
       "      <td>2274</td>\n",
       "      <td>113</td>\n",
       "      <td>...</td>\n",
       "      <td>-0.5000</td>\n",
       "      <td>-0.0104</td>\n",
       "      <td>0.1417</td>\n",
       "      <td>0</td>\n",
       "      <td>0</td>\n",
       "      <td>0</td>\n",
       "      <td>1</td>\n",
       "      <td>0</td>\n",
       "      <td>0</td>\n",
       "      <td>0</td>\n",
       "    </tr>\n",
       "    <tr>\n",
       "      <th>1</th>\n",
       "      <td>1</td>\n",
       "      <td>808</td>\n",
       "      <td>816</td>\n",
       "      <td>728350</td>\n",
       "      <td>728372</td>\n",
       "      <td>433</td>\n",
       "      <td>20</td>\n",
       "      <td>54</td>\n",
       "      <td>44478</td>\n",
       "      <td>70</td>\n",
       "      <td>...</td>\n",
       "      <td>0.7419</td>\n",
       "      <td>-0.2997</td>\n",
       "      <td>0.9491</td>\n",
       "      <td>0</td>\n",
       "      <td>0</td>\n",
       "      <td>0</td>\n",
       "      <td>0</td>\n",
       "      <td>0</td>\n",
       "      <td>0</td>\n",
       "      <td>1</td>\n",
       "    </tr>\n",
       "    <tr>\n",
       "      <th>2</th>\n",
       "      <td>2</td>\n",
       "      <td>39</td>\n",
       "      <td>192</td>\n",
       "      <td>2212076</td>\n",
       "      <td>2212144</td>\n",
       "      <td>11388</td>\n",
       "      <td>705</td>\n",
       "      <td>420</td>\n",
       "      <td>1311391</td>\n",
       "      <td>29</td>\n",
       "      <td>...</td>\n",
       "      <td>-0.0105</td>\n",
       "      <td>-0.0944</td>\n",
       "      <td>1.0000</td>\n",
       "      <td>0</td>\n",
       "      <td>0</td>\n",
       "      <td>1</td>\n",
       "      <td>0</td>\n",
       "      <td>0</td>\n",
       "      <td>0</td>\n",
       "      <td>0</td>\n",
       "    </tr>\n",
       "    <tr>\n",
       "      <th>3</th>\n",
       "      <td>3</td>\n",
       "      <td>781</td>\n",
       "      <td>789</td>\n",
       "      <td>3353146</td>\n",
       "      <td>3353173</td>\n",
       "      <td>210</td>\n",
       "      <td>16</td>\n",
       "      <td>29</td>\n",
       "      <td>3202</td>\n",
       "      <td>114</td>\n",
       "      <td>...</td>\n",
       "      <td>0.6667</td>\n",
       "      <td>-0.0402</td>\n",
       "      <td>0.4025</td>\n",
       "      <td>0</td>\n",
       "      <td>0</td>\n",
       "      <td>1</td>\n",
       "      <td>0</td>\n",
       "      <td>0</td>\n",
       "      <td>0</td>\n",
       "      <td>0</td>\n",
       "    </tr>\n",
       "    <tr>\n",
       "      <th>4</th>\n",
       "      <td>4</td>\n",
       "      <td>1540</td>\n",
       "      <td>1560</td>\n",
       "      <td>618457</td>\n",
       "      <td>618502</td>\n",
       "      <td>521</td>\n",
       "      <td>72</td>\n",
       "      <td>67</td>\n",
       "      <td>48231</td>\n",
       "      <td>82</td>\n",
       "      <td>...</td>\n",
       "      <td>0.9158</td>\n",
       "      <td>-0.2455</td>\n",
       "      <td>0.9998</td>\n",
       "      <td>0</td>\n",
       "      <td>0</td>\n",
       "      <td>0</td>\n",
       "      <td>0</td>\n",
       "      <td>0</td>\n",
       "      <td>0</td>\n",
       "      <td>1</td>\n",
       "    </tr>\n",
       "  </tbody>\n",
       "</table>\n",
       "<p>5 rows × 35 columns</p>\n",
       "</div>"
      ],
      "text/plain": [
       "   id  X_Minimum  X_Maximum  Y_Minimum  Y_Maximum  Pixels_Areas  X_Perimeter  \\\n",
       "0   0        584        590     909972     909977            16            8   \n",
       "1   1        808        816     728350     728372           433           20   \n",
       "2   2         39        192    2212076    2212144         11388          705   \n",
       "3   3        781        789    3353146    3353173           210           16   \n",
       "4   4       1540       1560     618457     618502           521           72   \n",
       "\n",
       "   Y_Perimeter  Sum_of_Luminosity  Minimum_of_Luminosity  ...  \\\n",
       "0            5               2274                    113  ...   \n",
       "1           54              44478                     70  ...   \n",
       "2          420            1311391                     29  ...   \n",
       "3           29               3202                    114  ...   \n",
       "4           67              48231                     82  ...   \n",
       "\n",
       "   Orientation_Index  Luminosity_Index  SigmoidOfAreas  Pastry  Z_Scratch  \\\n",
       "0            -0.5000           -0.0104          0.1417       0          0   \n",
       "1             0.7419           -0.2997          0.9491       0          0   \n",
       "2            -0.0105           -0.0944          1.0000       0          0   \n",
       "3             0.6667           -0.0402          0.4025       0          0   \n",
       "4             0.9158           -0.2455          0.9998       0          0   \n",
       "\n",
       "   K_Scatch  Stains  Dirtiness  Bumps  Other_Faults  \n",
       "0         0       1          0      0             0  \n",
       "1         0       0          0      0             1  \n",
       "2         1       0          0      0             0  \n",
       "3         1       0          0      0             0  \n",
       "4         0       0          0      0             1  \n",
       "\n",
       "[5 rows x 35 columns]"
      ]
     },
     "execution_count": 4,
     "metadata": {},
     "output_type": "execute_result"
    }
   ],
   "source": [
    "train = pd.concat([train, original], axis=0).drop_duplicates()\n",
    "train.head()"
   ]
  },
  {
   "cell_type": "code",
   "execution_count": 5,
   "id": "21e0029a",
   "metadata": {
    "execution": {
     "iopub.execute_input": "2024-03-05T14:50:58.919529Z",
     "iopub.status.busy": "2024-03-05T14:50:58.919111Z",
     "iopub.status.idle": "2024-03-05T14:50:58.926041Z",
     "shell.execute_reply": "2024-03-05T14:50:58.924942Z"
    },
    "papermill": {
     "duration": 0.026196,
     "end_time": "2024-03-05T14:50:58.928621",
     "exception": false,
     "start_time": "2024-03-05T14:50:58.902425",
     "status": "completed"
    },
    "tags": []
   },
   "outputs": [
    {
     "data": {
      "text/plain": [
       "(21160, 35)"
      ]
     },
     "execution_count": 5,
     "metadata": {},
     "output_type": "execute_result"
    }
   ],
   "source": [
    "train.shape"
   ]
  },
  {
   "cell_type": "code",
   "execution_count": 6,
   "id": "3b560ebd",
   "metadata": {
    "execution": {
     "iopub.execute_input": "2024-03-05T14:50:58.960526Z",
     "iopub.status.busy": "2024-03-05T14:50:58.960157Z",
     "iopub.status.idle": "2024-03-05T14:50:58.987342Z",
     "shell.execute_reply": "2024-03-05T14:50:58.986197Z"
    },
    "papermill": {
     "duration": 0.046209,
     "end_time": "2024-03-05T14:50:58.989885",
     "exception": false,
     "start_time": "2024-03-05T14:50:58.943676",
     "status": "completed"
    },
    "tags": []
   },
   "outputs": [
    {
     "data": {
      "text/html": [
       "<div>\n",
       "<style scoped>\n",
       "    .dataframe tbody tr th:only-of-type {\n",
       "        vertical-align: middle;\n",
       "    }\n",
       "\n",
       "    .dataframe tbody tr th {\n",
       "        vertical-align: top;\n",
       "    }\n",
       "\n",
       "    .dataframe thead th {\n",
       "        text-align: right;\n",
       "    }\n",
       "</style>\n",
       "<table border=\"1\" class=\"dataframe\">\n",
       "  <thead>\n",
       "    <tr style=\"text-align: right;\">\n",
       "      <th></th>\n",
       "      <th>X_Minimum</th>\n",
       "      <th>X_Maximum</th>\n",
       "      <th>Y_Minimum</th>\n",
       "      <th>Y_Maximum</th>\n",
       "      <th>Pixels_Areas</th>\n",
       "      <th>X_Perimeter</th>\n",
       "      <th>Y_Perimeter</th>\n",
       "      <th>Sum_of_Luminosity</th>\n",
       "      <th>Minimum_of_Luminosity</th>\n",
       "      <th>Maximum_of_Luminosity</th>\n",
       "      <th>...</th>\n",
       "      <th>Orientation_Index</th>\n",
       "      <th>Luminosity_Index</th>\n",
       "      <th>SigmoidOfAreas</th>\n",
       "      <th>Pastry</th>\n",
       "      <th>Z_Scratch</th>\n",
       "      <th>K_Scatch</th>\n",
       "      <th>Stains</th>\n",
       "      <th>Dirtiness</th>\n",
       "      <th>Bumps</th>\n",
       "      <th>Other_Faults</th>\n",
       "    </tr>\n",
       "  </thead>\n",
       "  <tbody>\n",
       "    <tr>\n",
       "      <th>0</th>\n",
       "      <td>584</td>\n",
       "      <td>590</td>\n",
       "      <td>909972</td>\n",
       "      <td>909977</td>\n",
       "      <td>16</td>\n",
       "      <td>8</td>\n",
       "      <td>5</td>\n",
       "      <td>2274</td>\n",
       "      <td>113</td>\n",
       "      <td>140</td>\n",
       "      <td>...</td>\n",
       "      <td>-0.5000</td>\n",
       "      <td>-0.0104</td>\n",
       "      <td>0.1417</td>\n",
       "      <td>0</td>\n",
       "      <td>0</td>\n",
       "      <td>0</td>\n",
       "      <td>1</td>\n",
       "      <td>0</td>\n",
       "      <td>0</td>\n",
       "      <td>0</td>\n",
       "    </tr>\n",
       "    <tr>\n",
       "      <th>1</th>\n",
       "      <td>808</td>\n",
       "      <td>816</td>\n",
       "      <td>728350</td>\n",
       "      <td>728372</td>\n",
       "      <td>433</td>\n",
       "      <td>20</td>\n",
       "      <td>54</td>\n",
       "      <td>44478</td>\n",
       "      <td>70</td>\n",
       "      <td>111</td>\n",
       "      <td>...</td>\n",
       "      <td>0.7419</td>\n",
       "      <td>-0.2997</td>\n",
       "      <td>0.9491</td>\n",
       "      <td>0</td>\n",
       "      <td>0</td>\n",
       "      <td>0</td>\n",
       "      <td>0</td>\n",
       "      <td>0</td>\n",
       "      <td>0</td>\n",
       "      <td>1</td>\n",
       "    </tr>\n",
       "    <tr>\n",
       "      <th>2</th>\n",
       "      <td>39</td>\n",
       "      <td>192</td>\n",
       "      <td>2212076</td>\n",
       "      <td>2212144</td>\n",
       "      <td>11388</td>\n",
       "      <td>705</td>\n",
       "      <td>420</td>\n",
       "      <td>1311391</td>\n",
       "      <td>29</td>\n",
       "      <td>141</td>\n",
       "      <td>...</td>\n",
       "      <td>-0.0105</td>\n",
       "      <td>-0.0944</td>\n",
       "      <td>1.0000</td>\n",
       "      <td>0</td>\n",
       "      <td>0</td>\n",
       "      <td>1</td>\n",
       "      <td>0</td>\n",
       "      <td>0</td>\n",
       "      <td>0</td>\n",
       "      <td>0</td>\n",
       "    </tr>\n",
       "    <tr>\n",
       "      <th>3</th>\n",
       "      <td>781</td>\n",
       "      <td>789</td>\n",
       "      <td>3353146</td>\n",
       "      <td>3353173</td>\n",
       "      <td>210</td>\n",
       "      <td>16</td>\n",
       "      <td>29</td>\n",
       "      <td>3202</td>\n",
       "      <td>114</td>\n",
       "      <td>134</td>\n",
       "      <td>...</td>\n",
       "      <td>0.6667</td>\n",
       "      <td>-0.0402</td>\n",
       "      <td>0.4025</td>\n",
       "      <td>0</td>\n",
       "      <td>0</td>\n",
       "      <td>1</td>\n",
       "      <td>0</td>\n",
       "      <td>0</td>\n",
       "      <td>0</td>\n",
       "      <td>0</td>\n",
       "    </tr>\n",
       "    <tr>\n",
       "      <th>4</th>\n",
       "      <td>1540</td>\n",
       "      <td>1560</td>\n",
       "      <td>618457</td>\n",
       "      <td>618502</td>\n",
       "      <td>521</td>\n",
       "      <td>72</td>\n",
       "      <td>67</td>\n",
       "      <td>48231</td>\n",
       "      <td>82</td>\n",
       "      <td>111</td>\n",
       "      <td>...</td>\n",
       "      <td>0.9158</td>\n",
       "      <td>-0.2455</td>\n",
       "      <td>0.9998</td>\n",
       "      <td>0</td>\n",
       "      <td>0</td>\n",
       "      <td>0</td>\n",
       "      <td>0</td>\n",
       "      <td>0</td>\n",
       "      <td>0</td>\n",
       "      <td>1</td>\n",
       "    </tr>\n",
       "  </tbody>\n",
       "</table>\n",
       "<p>5 rows × 34 columns</p>\n",
       "</div>"
      ],
      "text/plain": [
       "   X_Minimum  X_Maximum  Y_Minimum  Y_Maximum  Pixels_Areas  X_Perimeter  \\\n",
       "0        584        590     909972     909977            16            8   \n",
       "1        808        816     728350     728372           433           20   \n",
       "2         39        192    2212076    2212144         11388          705   \n",
       "3        781        789    3353146    3353173           210           16   \n",
       "4       1540       1560     618457     618502           521           72   \n",
       "\n",
       "   Y_Perimeter  Sum_of_Luminosity  Minimum_of_Luminosity  \\\n",
       "0            5               2274                    113   \n",
       "1           54              44478                     70   \n",
       "2          420            1311391                     29   \n",
       "3           29               3202                    114   \n",
       "4           67              48231                     82   \n",
       "\n",
       "   Maximum_of_Luminosity  ...  Orientation_Index  Luminosity_Index  \\\n",
       "0                    140  ...            -0.5000           -0.0104   \n",
       "1                    111  ...             0.7419           -0.2997   \n",
       "2                    141  ...            -0.0105           -0.0944   \n",
       "3                    134  ...             0.6667           -0.0402   \n",
       "4                    111  ...             0.9158           -0.2455   \n",
       "\n",
       "   SigmoidOfAreas  Pastry  Z_Scratch  K_Scatch  Stains  Dirtiness  Bumps  \\\n",
       "0          0.1417       0          0         0       1          0      0   \n",
       "1          0.9491       0          0         0       0          0      0   \n",
       "2          1.0000       0          0         1       0          0      0   \n",
       "3          0.4025       0          0         1       0          0      0   \n",
       "4          0.9998       0          0         0       0          0      0   \n",
       "\n",
       "   Other_Faults  \n",
       "0             0  \n",
       "1             1  \n",
       "2             0  \n",
       "3             0  \n",
       "4             1  \n",
       "\n",
       "[5 rows x 34 columns]"
      ]
     },
     "execution_count": 6,
     "metadata": {},
     "output_type": "execute_result"
    }
   ],
   "source": [
    "train = train.drop('id', axis=1)\n",
    "test = test.drop('id', axis=1)\n",
    "train.head()"
   ]
  },
  {
   "cell_type": "code",
   "execution_count": 7,
   "id": "adc68633",
   "metadata": {
    "execution": {
     "iopub.execute_input": "2024-03-05T14:50:59.022757Z",
     "iopub.status.busy": "2024-03-05T14:50:59.022347Z",
     "iopub.status.idle": "2024-03-05T14:50:59.047102Z",
     "shell.execute_reply": "2024-03-05T14:50:59.046058Z"
    },
    "papermill": {
     "duration": 0.04417,
     "end_time": "2024-03-05T14:50:59.049531",
     "exception": false,
     "start_time": "2024-03-05T14:50:59.005361",
     "status": "completed"
    },
    "tags": []
   },
   "outputs": [
    {
     "data": {
      "text/html": [
       "<div>\n",
       "<style scoped>\n",
       "    .dataframe tbody tr th:only-of-type {\n",
       "        vertical-align: middle;\n",
       "    }\n",
       "\n",
       "    .dataframe tbody tr th {\n",
       "        vertical-align: top;\n",
       "    }\n",
       "\n",
       "    .dataframe thead th {\n",
       "        text-align: right;\n",
       "    }\n",
       "</style>\n",
       "<table border=\"1\" class=\"dataframe\">\n",
       "  <thead>\n",
       "    <tr style=\"text-align: right;\">\n",
       "      <th></th>\n",
       "      <th>X_Minimum</th>\n",
       "      <th>X_Maximum</th>\n",
       "      <th>Y_Minimum</th>\n",
       "      <th>Y_Maximum</th>\n",
       "      <th>Pixels_Areas</th>\n",
       "      <th>X_Perimeter</th>\n",
       "      <th>Y_Perimeter</th>\n",
       "      <th>Sum_of_Luminosity</th>\n",
       "      <th>Minimum_of_Luminosity</th>\n",
       "      <th>Maximum_of_Luminosity</th>\n",
       "      <th>...</th>\n",
       "      <th>Outside_X_Index</th>\n",
       "      <th>Edges_X_Index</th>\n",
       "      <th>Edges_Y_Index</th>\n",
       "      <th>Outside_Global_Index</th>\n",
       "      <th>LogOfAreas</th>\n",
       "      <th>Log_X_Index</th>\n",
       "      <th>Log_Y_Index</th>\n",
       "      <th>Orientation_Index</th>\n",
       "      <th>Luminosity_Index</th>\n",
       "      <th>SigmoidOfAreas</th>\n",
       "    </tr>\n",
       "  </thead>\n",
       "  <tbody>\n",
       "    <tr>\n",
       "      <th>0</th>\n",
       "      <td>1015</td>\n",
       "      <td>1033</td>\n",
       "      <td>3826564</td>\n",
       "      <td>3826588</td>\n",
       "      <td>659</td>\n",
       "      <td>23</td>\n",
       "      <td>46</td>\n",
       "      <td>62357</td>\n",
       "      <td>67</td>\n",
       "      <td>127</td>\n",
       "      <td>...</td>\n",
       "      <td>0.0095</td>\n",
       "      <td>0.5652</td>\n",
       "      <td>1.0000</td>\n",
       "      <td>1.0</td>\n",
       "      <td>2.8410</td>\n",
       "      <td>1.1139</td>\n",
       "      <td>1.6628</td>\n",
       "      <td>0.6727</td>\n",
       "      <td>-0.2261</td>\n",
       "      <td>0.9172</td>\n",
       "    </tr>\n",
       "    <tr>\n",
       "      <th>1</th>\n",
       "      <td>1257</td>\n",
       "      <td>1271</td>\n",
       "      <td>419960</td>\n",
       "      <td>419973</td>\n",
       "      <td>370</td>\n",
       "      <td>26</td>\n",
       "      <td>28</td>\n",
       "      <td>39293</td>\n",
       "      <td>92</td>\n",
       "      <td>132</td>\n",
       "      <td>...</td>\n",
       "      <td>0.0047</td>\n",
       "      <td>0.2414</td>\n",
       "      <td>1.0000</td>\n",
       "      <td>1.0</td>\n",
       "      <td>2.5682</td>\n",
       "      <td>0.9031</td>\n",
       "      <td>1.4472</td>\n",
       "      <td>0.9063</td>\n",
       "      <td>-0.1453</td>\n",
       "      <td>0.9104</td>\n",
       "    </tr>\n",
       "    <tr>\n",
       "      <th>2</th>\n",
       "      <td>1358</td>\n",
       "      <td>1372</td>\n",
       "      <td>117715</td>\n",
       "      <td>117724</td>\n",
       "      <td>289</td>\n",
       "      <td>36</td>\n",
       "      <td>32</td>\n",
       "      <td>29386</td>\n",
       "      <td>101</td>\n",
       "      <td>134</td>\n",
       "      <td>...</td>\n",
       "      <td>0.0155</td>\n",
       "      <td>0.6000</td>\n",
       "      <td>0.7500</td>\n",
       "      <td>0.0</td>\n",
       "      <td>2.4609</td>\n",
       "      <td>1.3222</td>\n",
       "      <td>1.3222</td>\n",
       "      <td>-0.5238</td>\n",
       "      <td>-0.0435</td>\n",
       "      <td>0.6514</td>\n",
       "    </tr>\n",
       "    <tr>\n",
       "      <th>3</th>\n",
       "      <td>158</td>\n",
       "      <td>168</td>\n",
       "      <td>232415</td>\n",
       "      <td>232440</td>\n",
       "      <td>80</td>\n",
       "      <td>10</td>\n",
       "      <td>11</td>\n",
       "      <td>8586</td>\n",
       "      <td>107</td>\n",
       "      <td>140</td>\n",
       "      <td>...</td>\n",
       "      <td>0.0037</td>\n",
       "      <td>0.8000</td>\n",
       "      <td>1.0000</td>\n",
       "      <td>1.0</td>\n",
       "      <td>1.9031</td>\n",
       "      <td>0.6990</td>\n",
       "      <td>1.0414</td>\n",
       "      <td>0.1818</td>\n",
       "      <td>-0.0738</td>\n",
       "      <td>0.2051</td>\n",
       "    </tr>\n",
       "    <tr>\n",
       "      <th>4</th>\n",
       "      <td>559</td>\n",
       "      <td>592</td>\n",
       "      <td>544375</td>\n",
       "      <td>544389</td>\n",
       "      <td>140</td>\n",
       "      <td>19</td>\n",
       "      <td>15</td>\n",
       "      <td>15524</td>\n",
       "      <td>103</td>\n",
       "      <td>134</td>\n",
       "      <td>...</td>\n",
       "      <td>0.0158</td>\n",
       "      <td>0.8421</td>\n",
       "      <td>0.5333</td>\n",
       "      <td>0.0</td>\n",
       "      <td>2.1461</td>\n",
       "      <td>1.3222</td>\n",
       "      <td>1.1461</td>\n",
       "      <td>-0.5714</td>\n",
       "      <td>-0.0894</td>\n",
       "      <td>0.4170</td>\n",
       "    </tr>\n",
       "  </tbody>\n",
       "</table>\n",
       "<p>5 rows × 27 columns</p>\n",
       "</div>"
      ],
      "text/plain": [
       "   X_Minimum  X_Maximum  Y_Minimum  Y_Maximum  Pixels_Areas  X_Perimeter  \\\n",
       "0       1015       1033    3826564    3826588           659           23   \n",
       "1       1257       1271     419960     419973           370           26   \n",
       "2       1358       1372     117715     117724           289           36   \n",
       "3        158        168     232415     232440            80           10   \n",
       "4        559        592     544375     544389           140           19   \n",
       "\n",
       "   Y_Perimeter  Sum_of_Luminosity  Minimum_of_Luminosity  \\\n",
       "0           46              62357                     67   \n",
       "1           28              39293                     92   \n",
       "2           32              29386                    101   \n",
       "3           11               8586                    107   \n",
       "4           15              15524                    103   \n",
       "\n",
       "   Maximum_of_Luminosity  ...  Outside_X_Index  Edges_X_Index  Edges_Y_Index  \\\n",
       "0                    127  ...           0.0095         0.5652         1.0000   \n",
       "1                    132  ...           0.0047         0.2414         1.0000   \n",
       "2                    134  ...           0.0155         0.6000         0.7500   \n",
       "3                    140  ...           0.0037         0.8000         1.0000   \n",
       "4                    134  ...           0.0158         0.8421         0.5333   \n",
       "\n",
       "   Outside_Global_Index  LogOfAreas  Log_X_Index  Log_Y_Index  \\\n",
       "0                   1.0      2.8410       1.1139       1.6628   \n",
       "1                   1.0      2.5682       0.9031       1.4472   \n",
       "2                   0.0      2.4609       1.3222       1.3222   \n",
       "3                   1.0      1.9031       0.6990       1.0414   \n",
       "4                   0.0      2.1461       1.3222       1.1461   \n",
       "\n",
       "   Orientation_Index  Luminosity_Index  SigmoidOfAreas  \n",
       "0             0.6727           -0.2261          0.9172  \n",
       "1             0.9063           -0.1453          0.9104  \n",
       "2            -0.5238           -0.0435          0.6514  \n",
       "3             0.1818           -0.0738          0.2051  \n",
       "4            -0.5714           -0.0894          0.4170  \n",
       "\n",
       "[5 rows x 27 columns]"
      ]
     },
     "execution_count": 7,
     "metadata": {},
     "output_type": "execute_result"
    }
   ],
   "source": [
    "test.head()"
   ]
  },
  {
   "cell_type": "code",
   "execution_count": 8,
   "id": "e03c2470",
   "metadata": {
    "execution": {
     "iopub.execute_input": "2024-03-05T14:50:59.083326Z",
     "iopub.status.busy": "2024-03-05T14:50:59.082953Z",
     "iopub.status.idle": "2024-03-05T14:50:59.087831Z",
     "shell.execute_reply": "2024-03-05T14:50:59.086819Z"
    },
    "papermill": {
     "duration": 0.024423,
     "end_time": "2024-03-05T14:50:59.090006",
     "exception": false,
     "start_time": "2024-03-05T14:50:59.065583",
     "status": "completed"
    },
    "tags": []
   },
   "outputs": [],
   "source": [
    "target_variables = ['Pastry', 'Z_Scratch', 'K_Scatch', 'Stains', 'Dirtiness', 'Bumps',  'Other_Faults']"
   ]
  },
  {
   "cell_type": "code",
   "execution_count": 9,
   "id": "5d3deca0",
   "metadata": {
    "execution": {
     "iopub.execute_input": "2024-03-05T14:50:59.124018Z",
     "iopub.status.busy": "2024-03-05T14:50:59.123555Z",
     "iopub.status.idle": "2024-03-05T14:50:59.152347Z",
     "shell.execute_reply": "2024-03-05T14:50:59.150892Z"
    },
    "papermill": {
     "duration": 0.048979,
     "end_time": "2024-03-05T14:50:59.154896",
     "exception": false,
     "start_time": "2024-03-05T14:50:59.105917",
     "status": "completed"
    },
    "tags": []
   },
   "outputs": [
    {
     "data": {
      "text/html": [
       "<div>\n",
       "<style scoped>\n",
       "    .dataframe tbody tr th:only-of-type {\n",
       "        vertical-align: middle;\n",
       "    }\n",
       "\n",
       "    .dataframe tbody tr th {\n",
       "        vertical-align: top;\n",
       "    }\n",
       "\n",
       "    .dataframe thead th {\n",
       "        text-align: right;\n",
       "    }\n",
       "</style>\n",
       "<table border=\"1\" class=\"dataframe\">\n",
       "  <thead>\n",
       "    <tr style=\"text-align: right;\">\n",
       "      <th></th>\n",
       "      <th>X_Minimum</th>\n",
       "      <th>X_Maximum</th>\n",
       "      <th>Y_Minimum</th>\n",
       "      <th>Y_Maximum</th>\n",
       "      <th>Pixels_Areas</th>\n",
       "      <th>X_Perimeter</th>\n",
       "      <th>Y_Perimeter</th>\n",
       "      <th>Sum_of_Luminosity</th>\n",
       "      <th>Minimum_of_Luminosity</th>\n",
       "      <th>Maximum_of_Luminosity</th>\n",
       "      <th>...</th>\n",
       "      <th>Outside_X_Index</th>\n",
       "      <th>Edges_X_Index</th>\n",
       "      <th>Edges_Y_Index</th>\n",
       "      <th>Outside_Global_Index</th>\n",
       "      <th>LogOfAreas</th>\n",
       "      <th>Log_X_Index</th>\n",
       "      <th>Log_Y_Index</th>\n",
       "      <th>Orientation_Index</th>\n",
       "      <th>Luminosity_Index</th>\n",
       "      <th>SigmoidOfAreas</th>\n",
       "    </tr>\n",
       "  </thead>\n",
       "  <tbody>\n",
       "    <tr>\n",
       "      <th>0</th>\n",
       "      <td>584</td>\n",
       "      <td>590</td>\n",
       "      <td>909972</td>\n",
       "      <td>909977</td>\n",
       "      <td>16</td>\n",
       "      <td>8</td>\n",
       "      <td>5</td>\n",
       "      <td>2274</td>\n",
       "      <td>113</td>\n",
       "      <td>140</td>\n",
       "      <td>...</td>\n",
       "      <td>0.0059</td>\n",
       "      <td>1.0000</td>\n",
       "      <td>1.0000</td>\n",
       "      <td>0.0</td>\n",
       "      <td>1.2041</td>\n",
       "      <td>0.9031</td>\n",
       "      <td>0.6990</td>\n",
       "      <td>-0.5000</td>\n",
       "      <td>-0.0104</td>\n",
       "      <td>0.1417</td>\n",
       "    </tr>\n",
       "    <tr>\n",
       "      <th>1</th>\n",
       "      <td>808</td>\n",
       "      <td>816</td>\n",
       "      <td>728350</td>\n",
       "      <td>728372</td>\n",
       "      <td>433</td>\n",
       "      <td>20</td>\n",
       "      <td>54</td>\n",
       "      <td>44478</td>\n",
       "      <td>70</td>\n",
       "      <td>111</td>\n",
       "      <td>...</td>\n",
       "      <td>0.0044</td>\n",
       "      <td>0.2500</td>\n",
       "      <td>1.0000</td>\n",
       "      <td>1.0</td>\n",
       "      <td>2.6365</td>\n",
       "      <td>0.7782</td>\n",
       "      <td>1.7324</td>\n",
       "      <td>0.7419</td>\n",
       "      <td>-0.2997</td>\n",
       "      <td>0.9491</td>\n",
       "    </tr>\n",
       "    <tr>\n",
       "      <th>2</th>\n",
       "      <td>39</td>\n",
       "      <td>192</td>\n",
       "      <td>2212076</td>\n",
       "      <td>2212144</td>\n",
       "      <td>11388</td>\n",
       "      <td>705</td>\n",
       "      <td>420</td>\n",
       "      <td>1311391</td>\n",
       "      <td>29</td>\n",
       "      <td>141</td>\n",
       "      <td>...</td>\n",
       "      <td>0.1077</td>\n",
       "      <td>0.2363</td>\n",
       "      <td>0.3857</td>\n",
       "      <td>0.0</td>\n",
       "      <td>4.0564</td>\n",
       "      <td>2.1790</td>\n",
       "      <td>2.2095</td>\n",
       "      <td>-0.0105</td>\n",
       "      <td>-0.0944</td>\n",
       "      <td>1.0000</td>\n",
       "    </tr>\n",
       "    <tr>\n",
       "      <th>3</th>\n",
       "      <td>781</td>\n",
       "      <td>789</td>\n",
       "      <td>3353146</td>\n",
       "      <td>3353173</td>\n",
       "      <td>210</td>\n",
       "      <td>16</td>\n",
       "      <td>29</td>\n",
       "      <td>3202</td>\n",
       "      <td>114</td>\n",
       "      <td>134</td>\n",
       "      <td>...</td>\n",
       "      <td>0.0044</td>\n",
       "      <td>0.3750</td>\n",
       "      <td>0.9310</td>\n",
       "      <td>1.0</td>\n",
       "      <td>2.3222</td>\n",
       "      <td>0.7782</td>\n",
       "      <td>1.4314</td>\n",
       "      <td>0.6667</td>\n",
       "      <td>-0.0402</td>\n",
       "      <td>0.4025</td>\n",
       "    </tr>\n",
       "    <tr>\n",
       "      <th>4</th>\n",
       "      <td>1540</td>\n",
       "      <td>1560</td>\n",
       "      <td>618457</td>\n",
       "      <td>618502</td>\n",
       "      <td>521</td>\n",
       "      <td>72</td>\n",
       "      <td>67</td>\n",
       "      <td>48231</td>\n",
       "      <td>82</td>\n",
       "      <td>111</td>\n",
       "      <td>...</td>\n",
       "      <td>0.0192</td>\n",
       "      <td>0.2105</td>\n",
       "      <td>0.9861</td>\n",
       "      <td>1.0</td>\n",
       "      <td>2.7694</td>\n",
       "      <td>1.4150</td>\n",
       "      <td>1.8808</td>\n",
       "      <td>0.9158</td>\n",
       "      <td>-0.2455</td>\n",
       "      <td>0.9998</td>\n",
       "    </tr>\n",
       "  </tbody>\n",
       "</table>\n",
       "<p>5 rows × 27 columns</p>\n",
       "</div>"
      ],
      "text/plain": [
       "   X_Minimum  X_Maximum  Y_Minimum  Y_Maximum  Pixels_Areas  X_Perimeter  \\\n",
       "0        584        590     909972     909977            16            8   \n",
       "1        808        816     728350     728372           433           20   \n",
       "2         39        192    2212076    2212144         11388          705   \n",
       "3        781        789    3353146    3353173           210           16   \n",
       "4       1540       1560     618457     618502           521           72   \n",
       "\n",
       "   Y_Perimeter  Sum_of_Luminosity  Minimum_of_Luminosity  \\\n",
       "0            5               2274                    113   \n",
       "1           54              44478                     70   \n",
       "2          420            1311391                     29   \n",
       "3           29               3202                    114   \n",
       "4           67              48231                     82   \n",
       "\n",
       "   Maximum_of_Luminosity  ...  Outside_X_Index  Edges_X_Index  Edges_Y_Index  \\\n",
       "0                    140  ...           0.0059         1.0000         1.0000   \n",
       "1                    111  ...           0.0044         0.2500         1.0000   \n",
       "2                    141  ...           0.1077         0.2363         0.3857   \n",
       "3                    134  ...           0.0044         0.3750         0.9310   \n",
       "4                    111  ...           0.0192         0.2105         0.9861   \n",
       "\n",
       "   Outside_Global_Index  LogOfAreas  Log_X_Index  Log_Y_Index  \\\n",
       "0                   0.0      1.2041       0.9031       0.6990   \n",
       "1                   1.0      2.6365       0.7782       1.7324   \n",
       "2                   0.0      4.0564       2.1790       2.2095   \n",
       "3                   1.0      2.3222       0.7782       1.4314   \n",
       "4                   1.0      2.7694       1.4150       1.8808   \n",
       "\n",
       "   Orientation_Index  Luminosity_Index  SigmoidOfAreas  \n",
       "0            -0.5000           -0.0104          0.1417  \n",
       "1             0.7419           -0.2997          0.9491  \n",
       "2            -0.0105           -0.0944          1.0000  \n",
       "3             0.6667           -0.0402          0.4025  \n",
       "4             0.9158           -0.2455          0.9998  \n",
       "\n",
       "[5 rows x 27 columns]"
      ]
     },
     "execution_count": 9,
     "metadata": {},
     "output_type": "execute_result"
    }
   ],
   "source": [
    "X = train.drop(target_variables, axis=1)\n",
    "target = train[target_variables]\n",
    "X.head()"
   ]
  },
  {
   "cell_type": "code",
   "execution_count": 10,
   "id": "bb1b5ef4",
   "metadata": {
    "execution": {
     "iopub.execute_input": "2024-03-05T14:50:59.189658Z",
     "iopub.status.busy": "2024-03-05T14:50:59.188966Z",
     "iopub.status.idle": "2024-03-05T14:50:59.201987Z",
     "shell.execute_reply": "2024-03-05T14:50:59.200903Z"
    },
    "papermill": {
     "duration": 0.033089,
     "end_time": "2024-03-05T14:50:59.204356",
     "exception": false,
     "start_time": "2024-03-05T14:50:59.171267",
     "status": "completed"
    },
    "tags": []
   },
   "outputs": [
    {
     "data": {
      "text/html": [
       "<div>\n",
       "<style scoped>\n",
       "    .dataframe tbody tr th:only-of-type {\n",
       "        vertical-align: middle;\n",
       "    }\n",
       "\n",
       "    .dataframe tbody tr th {\n",
       "        vertical-align: top;\n",
       "    }\n",
       "\n",
       "    .dataframe thead th {\n",
       "        text-align: right;\n",
       "    }\n",
       "</style>\n",
       "<table border=\"1\" class=\"dataframe\">\n",
       "  <thead>\n",
       "    <tr style=\"text-align: right;\">\n",
       "      <th></th>\n",
       "      <th>Pastry</th>\n",
       "      <th>Z_Scratch</th>\n",
       "      <th>K_Scatch</th>\n",
       "      <th>Stains</th>\n",
       "      <th>Dirtiness</th>\n",
       "      <th>Bumps</th>\n",
       "      <th>Other_Faults</th>\n",
       "    </tr>\n",
       "  </thead>\n",
       "  <tbody>\n",
       "    <tr>\n",
       "      <th>0</th>\n",
       "      <td>0</td>\n",
       "      <td>0</td>\n",
       "      <td>0</td>\n",
       "      <td>1</td>\n",
       "      <td>0</td>\n",
       "      <td>0</td>\n",
       "      <td>0</td>\n",
       "    </tr>\n",
       "    <tr>\n",
       "      <th>1</th>\n",
       "      <td>0</td>\n",
       "      <td>0</td>\n",
       "      <td>0</td>\n",
       "      <td>0</td>\n",
       "      <td>0</td>\n",
       "      <td>0</td>\n",
       "      <td>1</td>\n",
       "    </tr>\n",
       "    <tr>\n",
       "      <th>2</th>\n",
       "      <td>0</td>\n",
       "      <td>0</td>\n",
       "      <td>1</td>\n",
       "      <td>0</td>\n",
       "      <td>0</td>\n",
       "      <td>0</td>\n",
       "      <td>0</td>\n",
       "    </tr>\n",
       "    <tr>\n",
       "      <th>3</th>\n",
       "      <td>0</td>\n",
       "      <td>0</td>\n",
       "      <td>1</td>\n",
       "      <td>0</td>\n",
       "      <td>0</td>\n",
       "      <td>0</td>\n",
       "      <td>0</td>\n",
       "    </tr>\n",
       "    <tr>\n",
       "      <th>4</th>\n",
       "      <td>0</td>\n",
       "      <td>0</td>\n",
       "      <td>0</td>\n",
       "      <td>0</td>\n",
       "      <td>0</td>\n",
       "      <td>0</td>\n",
       "      <td>1</td>\n",
       "    </tr>\n",
       "  </tbody>\n",
       "</table>\n",
       "</div>"
      ],
      "text/plain": [
       "   Pastry  Z_Scratch  K_Scatch  Stains  Dirtiness  Bumps  Other_Faults\n",
       "0       0          0         0       1          0      0             0\n",
       "1       0          0         0       0          0      0             1\n",
       "2       0          0         1       0          0      0             0\n",
       "3       0          0         1       0          0      0             0\n",
       "4       0          0         0       0          0      0             1"
      ]
     },
     "execution_count": 10,
     "metadata": {},
     "output_type": "execute_result"
    }
   ],
   "source": [
    "target.head()"
   ]
  },
  {
   "cell_type": "markdown",
   "id": "82203eaf",
   "metadata": {
    "papermill": {
     "duration": 0.016095,
     "end_time": "2024-03-05T14:50:59.236976",
     "exception": false,
     "start_time": "2024-03-05T14:50:59.220881",
     "status": "completed"
    },
    "tags": []
   },
   "source": [
    "# Z-Scale"
   ]
  },
  {
   "cell_type": "code",
   "execution_count": 11,
   "id": "ee56291a",
   "metadata": {
    "execution": {
     "iopub.execute_input": "2024-03-05T14:50:59.271844Z",
     "iopub.status.busy": "2024-03-05T14:50:59.271372Z",
     "iopub.status.idle": "2024-03-05T14:50:59.305471Z",
     "shell.execute_reply": "2024-03-05T14:50:59.303816Z"
    },
    "papermill": {
     "duration": 0.054817,
     "end_time": "2024-03-05T14:50:59.308340",
     "exception": false,
     "start_time": "2024-03-05T14:50:59.253523",
     "status": "completed"
    },
    "tags": []
   },
   "outputs": [
    {
     "data": {
      "text/plain": [
       "array([[-0.2126337 , -0.30209065, -0.48683739, ..., -1.22916955,\n",
       "         1.03325447, -1.29602889],\n",
       "       [ 0.2083857 ,  0.14887371, -0.58278763, ...,  1.3109518 ,\n",
       "        -1.31430165,  1.12935668],\n",
       "       [-1.23698891, -1.09626683,  0.20105939, ..., -0.22797026,\n",
       "         0.35162739,  1.2822575 ],\n",
       "       ...,\n",
       "       [-1.03775652, -1.13218435, -0.76323834, ..., -1.19398951,\n",
       "         1.15984235,  0.40480503],\n",
       "       [-1.05279293, -1.14016602, -0.74436865, ..., -0.33044234,\n",
       "         0.97888659,  1.25792554],\n",
       "       [ 1.05982224,  1.07674286, -0.92110808, ..., -0.61556426,\n",
       "         0.19339253, -0.13079844]])"
      ]
     },
     "execution_count": 11,
     "metadata": {},
     "output_type": "execute_result"
    }
   ],
   "source": [
    "scaler = StandardScaler()\n",
    "X_sc = scaler.fit_transform(X)\n",
    "test_sc = scaler.transform(test)\n",
    "X_sc"
   ]
  },
  {
   "cell_type": "markdown",
   "id": "cdf0f19d",
   "metadata": {
    "papermill": {
     "duration": 0.017527,
     "end_time": "2024-03-05T14:50:59.343241",
     "exception": false,
     "start_time": "2024-03-05T14:50:59.325714",
     "status": "completed"
    },
    "tags": []
   },
   "source": [
    "# Make sure it is a multiclass problem"
   ]
  },
  {
   "cell_type": "code",
   "execution_count": 12,
   "id": "468c2554",
   "metadata": {
    "execution": {
     "iopub.execute_input": "2024-03-05T14:50:59.378991Z",
     "iopub.status.busy": "2024-03-05T14:50:59.378559Z",
     "iopub.status.idle": "2024-03-05T14:50:59.396246Z",
     "shell.execute_reply": "2024-03-05T14:50:59.395139Z"
    },
    "papermill": {
     "duration": 0.038463,
     "end_time": "2024-03-05T14:50:59.398525",
     "exception": false,
     "start_time": "2024-03-05T14:50:59.360062",
     "status": "completed"
    },
    "tags": []
   },
   "outputs": [
    {
     "data": {
      "text/html": [
       "<div>\n",
       "<style scoped>\n",
       "    .dataframe tbody tr th:only-of-type {\n",
       "        vertical-align: middle;\n",
       "    }\n",
       "\n",
       "    .dataframe tbody tr th {\n",
       "        vertical-align: top;\n",
       "    }\n",
       "\n",
       "    .dataframe thead th {\n",
       "        text-align: right;\n",
       "    }\n",
       "</style>\n",
       "<table border=\"1\" class=\"dataframe\">\n",
       "  <thead>\n",
       "    <tr style=\"text-align: right;\">\n",
       "      <th></th>\n",
       "      <th>Pastry</th>\n",
       "      <th>Z_Scratch</th>\n",
       "      <th>K_Scatch</th>\n",
       "      <th>Stains</th>\n",
       "      <th>Dirtiness</th>\n",
       "      <th>Bumps</th>\n",
       "      <th>Other_Faults</th>\n",
       "    </tr>\n",
       "  </thead>\n",
       "  <tbody>\n",
       "  </tbody>\n",
       "</table>\n",
       "</div>"
      ],
      "text/plain": [
       "Empty DataFrame\n",
       "Columns: [Pastry, Z_Scratch, K_Scatch, Stains, Dirtiness, Bumps, Other_Faults]\n",
       "Index: []"
      ]
     },
     "execution_count": 12,
     "metadata": {},
     "output_type": "execute_result"
    }
   ],
   "source": [
    "# If the sum of the axis is greater than 1 because in the same row more than 1 columns value is 1, we can sure that is not a multi class problem, it is multi label problem.\n",
    "out = target[target.drop(columns=target_variables).sum(axis=1).gt(1)]\n",
    "out"
   ]
  },
  {
   "cell_type": "markdown",
   "id": "67ad5f02",
   "metadata": {
    "papermill": {
     "duration": 0.017406,
     "end_time": "2024-03-05T14:50:59.433266",
     "exception": false,
     "start_time": "2024-03-05T14:50:59.415860",
     "status": "completed"
    },
    "tags": []
   },
   "source": [
    "# One-Hot-Encoded to Label-Encoded"
   ]
  },
  {
   "cell_type": "code",
   "execution_count": 13,
   "id": "eb790bd9",
   "metadata": {
    "execution": {
     "iopub.execute_input": "2024-03-05T14:50:59.469502Z",
     "iopub.status.busy": "2024-03-05T14:50:59.469042Z",
     "iopub.status.idle": "2024-03-05T14:50:59.477624Z",
     "shell.execute_reply": "2024-03-05T14:50:59.476287Z"
    },
    "papermill": {
     "duration": 0.030141,
     "end_time": "2024-03-05T14:50:59.480445",
     "exception": false,
     "start_time": "2024-03-05T14:50:59.450304",
     "status": "completed"
    },
    "tags": []
   },
   "outputs": [
    {
     "data": {
      "text/plain": [
       "array([3, 6, 2, ..., 6, 6, 6])"
      ]
     },
     "execution_count": 13,
     "metadata": {},
     "output_type": "execute_result"
    }
   ],
   "source": [
    "label_encoded_targets = np.argmax(target, axis=-1)\n",
    "label_encoded_targets"
   ]
  },
  {
   "cell_type": "code",
   "execution_count": 14,
   "id": "7ae61476",
   "metadata": {
    "execution": {
     "iopub.execute_input": "2024-03-05T14:50:59.516857Z",
     "iopub.status.busy": "2024-03-05T14:50:59.516440Z",
     "iopub.status.idle": "2024-03-05T14:50:59.523804Z",
     "shell.execute_reply": "2024-03-05T14:50:59.522639Z"
    },
    "papermill": {
     "duration": 0.028379,
     "end_time": "2024-03-05T14:50:59.526148",
     "exception": false,
     "start_time": "2024-03-05T14:50:59.497769",
     "status": "completed"
    },
    "tags": []
   },
   "outputs": [
    {
     "data": {
      "text/plain": [
       "array([0, 1, 2, 3, 4, 5, 6])"
      ]
     },
     "execution_count": 14,
     "metadata": {},
     "output_type": "execute_result"
    }
   ],
   "source": [
    "unique_classes = np.unique(label_encoded_targets)\n",
    "unique_classes"
   ]
  },
  {
   "cell_type": "markdown",
   "id": "4cbadc95",
   "metadata": {
    "papermill": {
     "duration": 0.017106,
     "end_time": "2024-03-05T14:50:59.560760",
     "exception": false,
     "start_time": "2024-03-05T14:50:59.543654",
     "status": "completed"
    },
    "tags": []
   },
   "source": [
    "# Compute class weights"
   ]
  },
  {
   "cell_type": "markdown",
   "id": "f36e82f5",
   "metadata": {
    "papermill": {
     "duration": 0.017121,
     "end_time": "2024-03-05T14:50:59.595182",
     "exception": false,
     "start_time": "2024-03-05T14:50:59.578061",
     "status": "completed"
    },
    "tags": []
   },
   "source": [
    "### The dataset is unbalanced, so we need to compute class weights for each classes"
   ]
  },
  {
   "cell_type": "code",
   "execution_count": 15,
   "id": "f2302881",
   "metadata": {
    "execution": {
     "iopub.execute_input": "2024-03-05T14:50:59.631611Z",
     "iopub.status.busy": "2024-03-05T14:50:59.630914Z",
     "iopub.status.idle": "2024-03-05T14:50:59.648008Z",
     "shell.execute_reply": "2024-03-05T14:50:59.646460Z"
    },
    "papermill": {
     "duration": 0.038971,
     "end_time": "2024-03-05T14:50:59.651393",
     "exception": false,
     "start_time": "2024-03-05T14:50:59.612422",
     "status": "completed"
    },
    "tags": []
   },
   "outputs": [
    {
     "data": {
      "text/plain": [
       "array([1.23786124, 2.25586354, 0.79090977, 4.72321429, 5.5978836 ,\n",
       "       0.58548463, 0.41908459])"
      ]
     },
     "execution_count": 15,
     "metadata": {},
     "output_type": "execute_result"
    }
   ],
   "source": [
    "class_weights = compute_class_weight(class_weight=\"balanced\", classes=unique_classes, y=label_encoded_targets)\n",
    "class_weights"
   ]
  },
  {
   "cell_type": "code",
   "execution_count": 16,
   "id": "ef56e8e4",
   "metadata": {
    "execution": {
     "iopub.execute_input": "2024-03-05T14:50:59.688336Z",
     "iopub.status.busy": "2024-03-05T14:50:59.687946Z",
     "iopub.status.idle": "2024-03-05T14:50:59.695818Z",
     "shell.execute_reply": "2024-03-05T14:50:59.694792Z"
    },
    "papermill": {
     "duration": 0.028915,
     "end_time": "2024-03-05T14:50:59.698082",
     "exception": false,
     "start_time": "2024-03-05T14:50:59.669167",
     "status": "completed"
    },
    "tags": []
   },
   "outputs": [
    {
     "data": {
      "text/plain": [
       "{0: 1.237861237861238,\n",
       " 1: 2.255863539445629,\n",
       " 2: 0.7909097705016073,\n",
       " 3: 4.723214285714286,\n",
       " 4: 5.597883597883598,\n",
       " 5: 0.5854846296450015,\n",
       " 6: 0.4190845893327524}"
      ]
     },
     "execution_count": 16,
     "metadata": {},
     "output_type": "execute_result"
    }
   ],
   "source": [
    "class_weights_param = {key: value for key, value in zip(unique_classes, class_weights)}\n",
    "class_weights_param"
   ]
  },
  {
   "cell_type": "markdown",
   "id": "b9f23a8f",
   "metadata": {
    "papermill": {
     "duration": 0.017357,
     "end_time": "2024-03-05T14:50:59.794331",
     "exception": false,
     "start_time": "2024-03-05T14:50:59.776974",
     "status": "completed"
    },
    "tags": []
   },
   "source": [
    "# Optuna tuned params"
   ]
  },
  {
   "cell_type": "code",
   "execution_count": 17,
   "id": "9f2e9d16",
   "metadata": {
    "_kg_hide-input": false,
    "execution": {
     "iopub.execute_input": "2024-03-05T14:50:59.831275Z",
     "iopub.status.busy": "2024-03-05T14:50:59.830880Z",
     "iopub.status.idle": "2024-03-05T14:50:59.835410Z",
     "shell.execute_reply": "2024-03-05T14:50:59.834455Z"
    },
    "papermill": {
     "duration": 0.025892,
     "end_time": "2024-03-05T14:50:59.837837",
     "exception": false,
     "start_time": "2024-03-05T14:50:59.811945",
     "status": "completed"
    },
    "tags": []
   },
   "outputs": [],
   "source": [
    "TUNE = False"
   ]
  },
  {
   "cell_type": "code",
   "execution_count": 18,
   "id": "001e4693",
   "metadata": {
    "execution": {
     "iopub.execute_input": "2024-03-05T14:50:59.876638Z",
     "iopub.status.busy": "2024-03-05T14:50:59.875588Z",
     "iopub.status.idle": "2024-03-05T14:51:01.363541Z",
     "shell.execute_reply": "2024-03-05T14:51:01.362118Z"
    },
    "papermill": {
     "duration": 1.509862,
     "end_time": "2024-03-05T14:51:01.366166",
     "exception": false,
     "start_time": "2024-03-05T14:50:59.856304",
     "status": "completed"
    },
    "tags": []
   },
   "outputs": [
    {
     "name": "stderr",
     "output_type": "stream",
     "text": [
      "[I 2024-03-05 14:51:01,358] A new study created in memory with name: no-name-a4f06f30-ae77-454b-a522-fcd8c8c88a66\n"
     ]
    }
   ],
   "source": [
    "import optuna\n",
    "\n",
    "# Define the objective function for Optuna optimization\n",
    "def objective(trial, X_train, y_train, X_test, y_test):\n",
    "    # Define parameters to be optimized for the LGBMClassifier\n",
    "    param = {\n",
    "        \"class_weight\": class_weights_param,\n",
    "        \"objective\": \"multiclass\",\n",
    "        \"metric\": \"multi_logloss\",\n",
    "        \"verbosity\": -1,\n",
    "        \"boosting_type\": \"gbdt\",\n",
    "        \"random_state\": 42,\n",
    "        \"num_class\": 7,\n",
    "        \"learning_rate\": trial.suggest_float(\"learning_rate\", 0.01, 0.03),\n",
    "        \"n_estimators\": trial.suggest_int(\"n_estimators\", 400, 600),\n",
    "        \"lambda_l1\": trial.suggest_float(\"lambda_l1\", 0.005, 0.025),\n",
    "        \"lambda_l2\": trial.suggest_float(\"lambda_l2\", 0.02, 0.06),\n",
    "        \"max_depth\": trial.suggest_int(\"max_depth\", 6, 14),\n",
    "        \"colsample_bytree\": trial.suggest_float(\"colsample_bytree\", 0.3, 0.9),\n",
    "        \"subsample\": trial.suggest_float(\"subsample\", 0.5, 1.0),\n",
    "        \"min_child_samples\": trial.suggest_int(\"min_child_samples\", 10, 50),\n",
    "    }\n",
    "\n",
    "    # Create an instance of LGBMClassifier with the suggested parameters\n",
    "    lgbm_classifier = LGBMClassifier(**param)\n",
    "    \n",
    "    # Fit the classifier on the training data\n",
    "    lgbm_classifier.fit(X_train, y_train)\n",
    "\n",
    "    # Evaluate the classifier on the test data\n",
    "    score = lgbm_classifier.score(X_test, y_test)\n",
    "    \n",
    "    print(f'SCORE: {score}')\n",
    "\n",
    "    return score\n",
    "\n",
    "# Split the data into training and test sets\n",
    "X_train, X_test, y_train, y_test = train_test_split(X_sc, label_encoded_targets, test_size=0.2, random_state=42)  # Adjust the test_size as needed\n",
    "\n",
    "# Set up the sampler for Optuna optimization\n",
    "sampler = optuna.samplers.TPESampler(seed=42)  # Using Tree-structured Parzen Estimator sampler for optimization\n",
    "\n",
    "# Create a study object for Optuna optimization\n",
    "study = optuna.create_study(direction=\"maximize\", sampler=sampler)\n",
    "\n",
    "# If TUNE\n",
    "if TUNE:\n",
    "    # Run the optimization process\n",
    "    study.optimize(lambda trial: objective(trial, X_train, y_train, X_test, y_test), n_trials=150)\n",
    "\n",
    "    # Get the best parameters after optimization\n",
    "    best_params = study.best_params"
   ]
  },
  {
   "cell_type": "code",
   "execution_count": 19,
   "id": "a3b9afe9",
   "metadata": {
    "execution": {
     "iopub.execute_input": "2024-03-05T14:51:01.403935Z",
     "iopub.status.busy": "2024-03-05T14:51:01.403498Z",
     "iopub.status.idle": "2024-03-05T14:51:01.428456Z",
     "shell.execute_reply": "2024-03-05T14:51:01.427181Z"
    },
    "papermill": {
     "duration": 0.046917,
     "end_time": "2024-03-05T14:51:01.430941",
     "exception": false,
     "start_time": "2024-03-05T14:51:01.384024",
     "status": "completed"
    },
    "tags": []
   },
   "outputs": [
    {
     "name": "stderr",
     "output_type": "stream",
     "text": [
      "[I 2024-03-05 14:51:01,424] A new study created in memory with name: no-name-7c9ce639-90f6-4865-85ed-8261a3d1e820\n"
     ]
    }
   ],
   "source": [
    "# Define the objective function for Optuna optimization\n",
    "def objective(trial, X_train, y_train, X_test, y_test):\n",
    "    # Define parameters to be optimized for the XGBClassifier\n",
    "    param = {\n",
    "        \"objective\": 'multi:softmax',\n",
    "        \"booster\": 'gbtree',\n",
    "        \"random_state\": 42,\n",
    "        \"num_class\": 7,\n",
    "        'n_estimators': trial.suggest_int('n_estimators', 400, 1000),\n",
    "        'learning_rate': trial.suggest_float('learning_rate', 0.01, 1.0),\n",
    "        'gamma' : trial.suggest_float('gamma', 1e-9, 1.0),\n",
    "        'subsample': trial.suggest_float('subsample', 0.25, 1.0),\n",
    "        'colsample_bytree': trial.suggest_float('colsample_bytree', 0.25, 1.0),\n",
    "        'max_depth': trial.suggest_int('max_depth', 0, 24),\n",
    "        'min_child_weight': trial.suggest_int('min_child_weight', 1, 30),\n",
    "        'reg_lambda': trial.suggest_float('reg_lambda', 1e-9, 10.0, log=True),\n",
    "        'reg_alpha': trial.suggest_float('reg_alpha', 1e-9, 10.0, log=True),\n",
    "    }\n",
    "\n",
    "    # Create an instance of LGBMClassifier with the suggested parameters\n",
    "    xgb_classifier = XGBClassifier(**param)\n",
    "    \n",
    "    # Fit the classifier on the training data\n",
    "    xgb_classifier.fit(X_train, y_train)\n",
    "\n",
    "    # Evaluate the classifier on the test data\n",
    "    score = xgb_classifier.score(X_test, y_test)\n",
    "    y_pred_prob = xgb_classifier.predict_proba(X_test)\n",
    "    lgbm_log_loss = log_loss(y_test, y_pred_prob)\n",
    "    print(f'SCORE: {score}')\n",
    "    print(f'Log Loss: {lgbm_log_loss}')\n",
    "\n",
    "    return score\n",
    "\n",
    "# Split the data into training and test sets\n",
    "X_train, X_test, y_train, y_test = train_test_split(X_sc, label_encoded_targets, test_size=0.2, random_state=42)  # Adjust the test_size as needed\n",
    "\n",
    "# Set up the sampler for Optuna optimization\n",
    "sampler = optuna.samplers.TPESampler(seed=42)  # Using Tree-structured Parzen Estimator sampler for optimization\n",
    "\n",
    "# Create a study object for Optuna optimization\n",
    "study = optuna.create_study(direction=\"maximize\", sampler=sampler)\n",
    "\n",
    "if TUNE:\n",
    "\n",
    "    # Run the optimization process\n",
    "    study.optimize(lambda trial: objective(trial, X_train, y_train, X_test, y_test), n_trials=150)\n",
    "\n",
    "    # Get the best parameters after optimization\n",
    "    best_params = study.best_params"
   ]
  },
  {
   "cell_type": "code",
   "execution_count": 20,
   "id": "d2793d36",
   "metadata": {
    "execution": {
     "iopub.execute_input": "2024-03-05T14:51:01.469345Z",
     "iopub.status.busy": "2024-03-05T14:51:01.468736Z",
     "iopub.status.idle": "2024-03-05T14:51:01.475032Z",
     "shell.execute_reply": "2024-03-05T14:51:01.474178Z"
    },
    "papermill": {
     "duration": 0.028407,
     "end_time": "2024-03-05T14:51:01.477752",
     "exception": false,
     "start_time": "2024-03-05T14:51:01.449345",
     "status": "completed"
    },
    "tags": []
   },
   "outputs": [],
   "source": [
    "lgbm_params: dict = {\n",
    "    \"class_weight\": class_weights_param, # Balanced class weight\n",
    "    \"objective\": \"multiclass\",          # Objective function for the model\n",
    "    \"metric\": \"multi_logloss\",          # Evaluation metric\n",
    "    \"verbosity\": -1,                    # Verbosity level (-1 for silent)\n",
    "    \"boosting_type\": \"gbdt\",            # Gradient boosting type\n",
    "    \"random_state\": 42,       # Random state for reproducibility\n",
    "    \"num_class\": 7,                     # Number of classes in the dataset\n",
    "    'n_estimators': 752,\n",
    "    'learning_rate': 0.005613916463106189,\n",
    "    'max_depth': 6,\n",
    "    'num_leaves': 252,\n",
    "    'subsample': 0.6045538705062335,\n",
    "    'colsample_bytree': 0.866501494211133,\n",
    "    'colsample_bynode': 0.5443098861233086,\n",
    "    'reg_alpha': 0.0024787490924597882,\n",
    "    'reg_lambda': 3.5334079815178954,\n",
    "    'min_split_gain': 0.05539710161546875,\n",
    "}"
   ]
  },
  {
   "cell_type": "code",
   "execution_count": 21,
   "id": "45686eda",
   "metadata": {
    "execution": {
     "iopub.execute_input": "2024-03-05T14:51:01.524185Z",
     "iopub.status.busy": "2024-03-05T14:51:01.523222Z",
     "iopub.status.idle": "2024-03-05T14:51:01.529038Z",
     "shell.execute_reply": "2024-03-05T14:51:01.528226Z"
    },
    "papermill": {
     "duration": 0.030323,
     "end_time": "2024-03-05T14:51:01.531815",
     "exception": false,
     "start_time": "2024-03-05T14:51:01.501492",
     "status": "completed"
    },
    "tags": []
   },
   "outputs": [],
   "source": [
    "xgb_params: dict = {\n",
    "    'class_weight': class_weights_param,\n",
    "    'objective':'multi:softmax',\n",
    "    'n_estimators': 829,\n",
    "    'learning_rate': 0.010260565670497695,\n",
    "    'gamma': 0.16282691057583543,\n",
    "    'reg_alpha': 0.010492176264956674,\n",
    "    'reg_lambda': 0.437536781187624,\n",
    "    'max_depth': 5,\n",
    "    'min_child_weight': 2,\n",
    "    'subsample': 0.6971737476610285,\n",
    "    'colsample_bytree': 0.5115061295805807,\n",
    "    'random_state': 345,\n",
    "}"
   ]
  },
  {
   "cell_type": "code",
   "execution_count": 22,
   "id": "ec444c5e",
   "metadata": {
    "execution": {
     "iopub.execute_input": "2024-03-05T14:51:01.577565Z",
     "iopub.status.busy": "2024-03-05T14:51:01.576831Z",
     "iopub.status.idle": "2024-03-05T14:51:01.582396Z",
     "shell.execute_reply": "2024-03-05T14:51:01.581236Z"
    },
    "papermill": {
     "duration": 0.027664,
     "end_time": "2024-03-05T14:51:01.584858",
     "exception": false,
     "start_time": "2024-03-05T14:51:01.557194",
     "status": "completed"
    },
    "tags": []
   },
   "outputs": [],
   "source": [
    "cat_params: dict = {\n",
    "    'class_weights': class_weights_param,\n",
    "    'learning_rate': 0.13762007048684638,\n",
    "    'depth': 5, \n",
    "    'l2_leaf_reg': 5.285199432056192,\n",
    "    'bagging_temperature': 0.6029582154263095,\n",
    "    'random_seed': 42,\n",
    "    'verbose': False,\n",
    "    'iterations':1000,\n",
    "}"
   ]
  },
  {
   "cell_type": "code",
   "execution_count": 23,
   "id": "4adabeac",
   "metadata": {
    "execution": {
     "iopub.execute_input": "2024-03-05T14:51:01.622459Z",
     "iopub.status.busy": "2024-03-05T14:51:01.622020Z",
     "iopub.status.idle": "2024-03-05T14:51:01.630910Z",
     "shell.execute_reply": "2024-03-05T14:51:01.629564Z"
    },
    "papermill": {
     "duration": 0.030572,
     "end_time": "2024-03-05T14:51:01.633319",
     "exception": false,
     "start_time": "2024-03-05T14:51:01.602747",
     "status": "completed"
    },
    "tags": []
   },
   "outputs": [],
   "source": [
    "estimators = [\n",
    "    ('XGB', XGBClassifier(**xgb_params)),\n",
    "    ('LGBM', LGBMClassifier(**lgbm_params)),\n",
    "    ('CAT', CatBoostClassifier(**cat_params))\n",
    "]"
   ]
  },
  {
   "cell_type": "markdown",
   "id": "b77a8c8a",
   "metadata": {
    "papermill": {
     "duration": 0.020708,
     "end_time": "2024-03-05T14:51:01.672472",
     "exception": false,
     "start_time": "2024-03-05T14:51:01.651764",
     "status": "completed"
    },
    "tags": []
   },
   "source": [
    "# Optuna Voting Weights Tuning"
   ]
  },
  {
   "cell_type": "code",
   "execution_count": 24,
   "id": "37186bab",
   "metadata": {
    "execution": {
     "iopub.execute_input": "2024-03-05T14:51:01.711235Z",
     "iopub.status.busy": "2024-03-05T14:51:01.710572Z",
     "iopub.status.idle": "2024-03-05T14:51:01.714548Z",
     "shell.execute_reply": "2024-03-05T14:51:01.713771Z"
    },
    "papermill": {
     "duration": 0.025886,
     "end_time": "2024-03-05T14:51:01.716692",
     "exception": false,
     "start_time": "2024-03-05T14:51:01.690806",
     "status": "completed"
    },
    "tags": []
   },
   "outputs": [],
   "source": [
    "WEIGHT_TUNE = False"
   ]
  },
  {
   "cell_type": "code",
   "execution_count": 25,
   "id": "c1932845",
   "metadata": {
    "execution": {
     "iopub.execute_input": "2024-03-05T14:51:01.755656Z",
     "iopub.status.busy": "2024-03-05T14:51:01.754950Z",
     "iopub.status.idle": "2024-03-05T14:51:01.774809Z",
     "shell.execute_reply": "2024-03-05T14:51:01.773706Z"
    },
    "papermill": {
     "duration": 0.042753,
     "end_time": "2024-03-05T14:51:01.777525",
     "exception": false,
     "start_time": "2024-03-05T14:51:01.734772",
     "status": "completed"
    },
    "tags": []
   },
   "outputs": [
    {
     "name": "stderr",
     "output_type": "stream",
     "text": [
      "[I 2024-03-05 14:51:01,769] A new study created in memory with name: no-name-45d49953-3c84-40b4-9bc3-27e59e998e8d\n"
     ]
    }
   ],
   "source": [
    "# Define the objective function for Optuna optimization\n",
    "def objective(trial, X_train, y_train, X_test, y_test):\n",
    "    # Define parameters to be optimized for the weighted ensemble\n",
    "    \n",
    "    obj_estimators = [\n",
    "        ('XGB', XGBClassifier(**xgb_params)),\n",
    "        ('LGBM', LGBMClassifier(**lgbm_params)),\n",
    "        ('CAT', CatBoostClassifier(**cat_params))\n",
    "    ]\n",
    "    \n",
    "    voting_classifier = VotingClassifier(\n",
    "        estimators=obj_estimators,\n",
    "        voting='soft',\n",
    "        weights=[\n",
    "            trial.suggest_float('XGB_Weight', 1.00, 9.00),\n",
    "            trial.suggest_float('LGBM_Weight', 0.25, 5.00),\n",
    "            trial.suggest_float('CAT_Weight', 0.25, 2.00),\n",
    "        ],\n",
    "    )\n",
    "    \n",
    "    voting_classifier.fit(X_train, y_train)\n",
    "    \n",
    "    predict_probs = voting_classifier.predict_proba(X_test)\n",
    "    \n",
    "    auc_score = roc_auc_score(y_test, predict_probs, multi_class='ovr')\n",
    "\n",
    "    return auc_score\n",
    "\n",
    "# Split the data into training and test sets\n",
    "X_train, X_test, y_train, y_test = train_test_split(X_sc, label_encoded_targets, test_size=0.2, random_state=42)  # Adjust the test_size as needed\n",
    "\n",
    "# Set up the sampler for Optuna optimization\n",
    "weight_sampler = optuna.samplers.TPESampler(seed=42)  # Using Tree-structured Parzen Estimator sampler for optimization\n",
    "\n",
    "# Create a study object for Optuna optimization\n",
    "weight_study = optuna.create_study(direction=\"maximize\", sampler=weight_sampler)\n",
    "\n",
    "if WEIGHT_TUNE:\n",
    "\n",
    "    # Run the optimization process\n",
    "    weight_study.optimize(lambda trial: objective(trial, X_train, y_train, X_test, y_test), n_trials=300)\n",
    "\n",
    "    # Get the best parameters after optimization\n",
    "    weight_best_params = weight_study.best_params"
   ]
  },
  {
   "cell_type": "code",
   "execution_count": 26,
   "id": "d3310608",
   "metadata": {
    "execution": {
     "iopub.execute_input": "2024-03-05T14:51:01.815791Z",
     "iopub.status.busy": "2024-03-05T14:51:01.815329Z",
     "iopub.status.idle": "2024-03-05T14:51:01.819907Z",
     "shell.execute_reply": "2024-03-05T14:51:01.818724Z"
    },
    "papermill": {
     "duration": 0.026487,
     "end_time": "2024-03-05T14:51:01.822145",
     "exception": false,
     "start_time": "2024-03-05T14:51:01.795658",
     "status": "completed"
    },
    "tags": []
   },
   "outputs": [],
   "source": [
    "# weight_best_params\n",
    "# {'XGB_Weight': 7.994761950304625, 'LGBM_Weight': 0.46883567511191715,'CAT_Weight': 0.4412142916220983}"
   ]
  },
  {
   "cell_type": "markdown",
   "id": "2ef4b590",
   "metadata": {
    "papermill": {
     "duration": 0.018192,
     "end_time": "2024-03-05T14:51:01.858339",
     "exception": false,
     "start_time": "2024-03-05T14:51:01.840147",
     "status": "completed"
    },
    "tags": []
   },
   "source": [
    "# Voting Classifier"
   ]
  },
  {
   "cell_type": "code",
   "execution_count": 27,
   "id": "3673b8e7",
   "metadata": {
    "execution": {
     "iopub.execute_input": "2024-03-05T14:51:01.896276Z",
     "iopub.status.busy": "2024-03-05T14:51:01.895830Z",
     "iopub.status.idle": "2024-03-05T14:51:01.901624Z",
     "shell.execute_reply": "2024-03-05T14:51:01.900458Z"
    },
    "papermill": {
     "duration": 0.027164,
     "end_time": "2024-03-05T14:51:01.903834",
     "exception": false,
     "start_time": "2024-03-05T14:51:01.876670",
     "status": "completed"
    },
    "tags": []
   },
   "outputs": [],
   "source": [
    "voting_estimators = [\n",
    "    ('XGB', XGBClassifier(**xgb_params)),\n",
    "    ('LGBM', LGBMClassifier(**lgbm_params)),\n",
    "    ('CAT', CatBoostClassifier(**cat_params))\n",
    "]"
   ]
  },
  {
   "cell_type": "code",
   "execution_count": 28,
   "id": "4781e24f",
   "metadata": {
    "execution": {
     "iopub.execute_input": "2024-03-05T14:51:01.941898Z",
     "iopub.status.busy": "2024-03-05T14:51:01.941191Z",
     "iopub.status.idle": "2024-03-05T14:52:35.987799Z",
     "shell.execute_reply": "2024-03-05T14:52:35.986616Z"
    },
    "papermill": {
     "duration": 94.068966,
     "end_time": "2024-03-05T14:52:35.990859",
     "exception": false,
     "start_time": "2024-03-05T14:51:01.921893",
     "status": "completed"
    },
    "tags": []
   },
   "outputs": [],
   "source": [
    "voting_classifier = VotingClassifier(\n",
    "    estimators=voting_estimators,\n",
    "    voting='soft',\n",
    "    weights=[\n",
    "            7.994761950304625,\n",
    "            0.46883567511191715,\n",
    "            0.4412142916220983\n",
    "        ],\n",
    "    )\n",
    "    \n",
    "voting_classifier.fit(X_sc, label_encoded_targets)\n",
    "\n",
    "voting_predicted_probs = voting_classifier.predict_proba(test_sc)"
   ]
  },
  {
   "cell_type": "markdown",
   "id": "c521a665",
   "metadata": {
    "papermill": {
     "duration": 0.017629,
     "end_time": "2024-03-05T14:52:36.026620",
     "exception": false,
     "start_time": "2024-03-05T14:52:36.008991",
     "status": "completed"
    },
    "tags": []
   },
   "source": [
    "# Stacking Classifier"
   ]
  },
  {
   "cell_type": "code",
   "execution_count": 29,
   "id": "7b282ee9",
   "metadata": {
    "execution": {
     "iopub.execute_input": "2024-03-05T14:52:36.064262Z",
     "iopub.status.busy": "2024-03-05T14:52:36.063851Z",
     "iopub.status.idle": "2024-03-05T14:52:36.069955Z",
     "shell.execute_reply": "2024-03-05T14:52:36.068645Z"
    },
    "papermill": {
     "duration": 0.027879,
     "end_time": "2024-03-05T14:52:36.072383",
     "exception": false,
     "start_time": "2024-03-05T14:52:36.044504",
     "status": "completed"
    },
    "tags": []
   },
   "outputs": [],
   "source": [
    "stacking_estimators = [\n",
    "    ('XGB', XGBClassifier(**xgb_params)),\n",
    "    ('LGBM', LGBMClassifier(**lgbm_params)),\n",
    "    ('CAT', CatBoostClassifier(**cat_params))\n",
    "]"
   ]
  },
  {
   "cell_type": "code",
   "execution_count": 30,
   "id": "de67c9dd",
   "metadata": {
    "execution": {
     "iopub.execute_input": "2024-03-05T14:52:36.111756Z",
     "iopub.status.busy": "2024-03-05T14:52:36.111039Z",
     "iopub.status.idle": "2024-03-05T15:05:44.803991Z",
     "shell.execute_reply": "2024-03-05T15:05:44.802985Z"
    },
    "papermill": {
     "duration": 788.736475,
     "end_time": "2024-03-05T15:05:44.826930",
     "exception": false,
     "start_time": "2024-03-05T14:52:36.090455",
     "status": "completed"
    },
    "tags": []
   },
   "outputs": [
    {
     "data": {
      "text/html": [
       "<style>#sk-container-id-1 {color: black;background-color: white;}#sk-container-id-1 pre{padding: 0;}#sk-container-id-1 div.sk-toggleable {background-color: white;}#sk-container-id-1 label.sk-toggleable__label {cursor: pointer;display: block;width: 100%;margin-bottom: 0;padding: 0.3em;box-sizing: border-box;text-align: center;}#sk-container-id-1 label.sk-toggleable__label-arrow:before {content: \"▸\";float: left;margin-right: 0.25em;color: #696969;}#sk-container-id-1 label.sk-toggleable__label-arrow:hover:before {color: black;}#sk-container-id-1 div.sk-estimator:hover label.sk-toggleable__label-arrow:before {color: black;}#sk-container-id-1 div.sk-toggleable__content {max-height: 0;max-width: 0;overflow: hidden;text-align: left;background-color: #f0f8ff;}#sk-container-id-1 div.sk-toggleable__content pre {margin: 0.2em;color: black;border-radius: 0.25em;background-color: #f0f8ff;}#sk-container-id-1 input.sk-toggleable__control:checked~div.sk-toggleable__content {max-height: 200px;max-width: 100%;overflow: auto;}#sk-container-id-1 input.sk-toggleable__control:checked~label.sk-toggleable__label-arrow:before {content: \"▾\";}#sk-container-id-1 div.sk-estimator input.sk-toggleable__control:checked~label.sk-toggleable__label {background-color: #d4ebff;}#sk-container-id-1 div.sk-label input.sk-toggleable__control:checked~label.sk-toggleable__label {background-color: #d4ebff;}#sk-container-id-1 input.sk-hidden--visually {border: 0;clip: rect(1px 1px 1px 1px);clip: rect(1px, 1px, 1px, 1px);height: 1px;margin: -1px;overflow: hidden;padding: 0;position: absolute;width: 1px;}#sk-container-id-1 div.sk-estimator {font-family: monospace;background-color: #f0f8ff;border: 1px dotted black;border-radius: 0.25em;box-sizing: border-box;margin-bottom: 0.5em;}#sk-container-id-1 div.sk-estimator:hover {background-color: #d4ebff;}#sk-container-id-1 div.sk-parallel-item::after {content: \"\";width: 100%;border-bottom: 1px solid gray;flex-grow: 1;}#sk-container-id-1 div.sk-label:hover label.sk-toggleable__label {background-color: #d4ebff;}#sk-container-id-1 div.sk-serial::before {content: \"\";position: absolute;border-left: 1px solid gray;box-sizing: border-box;top: 0;bottom: 0;left: 50%;z-index: 0;}#sk-container-id-1 div.sk-serial {display: flex;flex-direction: column;align-items: center;background-color: white;padding-right: 0.2em;padding-left: 0.2em;position: relative;}#sk-container-id-1 div.sk-item {position: relative;z-index: 1;}#sk-container-id-1 div.sk-parallel {display: flex;align-items: stretch;justify-content: center;background-color: white;position: relative;}#sk-container-id-1 div.sk-item::before, #sk-container-id-1 div.sk-parallel-item::before {content: \"\";position: absolute;border-left: 1px solid gray;box-sizing: border-box;top: 0;bottom: 0;left: 50%;z-index: -1;}#sk-container-id-1 div.sk-parallel-item {display: flex;flex-direction: column;z-index: 1;position: relative;background-color: white;}#sk-container-id-1 div.sk-parallel-item:first-child::after {align-self: flex-end;width: 50%;}#sk-container-id-1 div.sk-parallel-item:last-child::after {align-self: flex-start;width: 50%;}#sk-container-id-1 div.sk-parallel-item:only-child::after {width: 0;}#sk-container-id-1 div.sk-dashed-wrapped {border: 1px dashed gray;margin: 0 0.4em 0.5em 0.4em;box-sizing: border-box;padding-bottom: 0.4em;background-color: white;}#sk-container-id-1 div.sk-label label {font-family: monospace;font-weight: bold;display: inline-block;line-height: 1.2em;}#sk-container-id-1 div.sk-label-container {text-align: center;}#sk-container-id-1 div.sk-container {/* jupyter's `normalize.less` sets `[hidden] { display: none; }` but bootstrap.min.css set `[hidden] { display: none !important; }` so we also need the `!important` here to be able to override the default hidden behavior on the sphinx rendered scikit-learn.org. See: https://github.com/scikit-learn/scikit-learn/issues/21755 */display: inline-block !important;position: relative;}#sk-container-id-1 div.sk-text-repr-fallback {display: none;}</style><div id=\"sk-container-id-1\" class=\"sk-top-container\"><div class=\"sk-text-repr-fallback\"><pre>StackingClassifier(cv=10,\n",
       "                   estimators=[(&#x27;LGBM&#x27;,\n",
       "                                LGBMClassifier(class_weight={0: 1.237861237861238,\n",
       "                                                             1: 2.255863539445629,\n",
       "                                                             2: 0.7909097705016073,\n",
       "                                                             3: 4.723214285714286,\n",
       "                                                             4: 5.597883597883598,\n",
       "                                                             5: 0.5854846296450015,\n",
       "                                                             6: 0.4190845893327524},\n",
       "                                               colsample_bynode=0.5443098861233086,\n",
       "                                               colsample_bytree=0.866501494211133,\n",
       "                                               learning_rate=0.005613916463106189,\n",
       "                                               max_depth=6,\n",
       "                                               metric=&#x27;multi_...\n",
       "                                                 gamma=0.16282691057583543,\n",
       "                                                 grow_policy=None,\n",
       "                                                 importance_type=None,\n",
       "                                                 interaction_constraints=None,\n",
       "                                                 learning_rate=0.010260565670497695,\n",
       "                                                 max_bin=None,\n",
       "                                                 max_cat_threshold=None,\n",
       "                                                 max_cat_to_onehot=None,\n",
       "                                                 max_delta_step=None,\n",
       "                                                 max_depth=5, max_leaves=None,\n",
       "                                                 min_child_weight=2,\n",
       "                                                 missing=nan,\n",
       "                                                 monotone_constraints=None,\n",
       "                                                 multi_strategy=None,\n",
       "                                                 n_estimators=829, n_jobs=None,\n",
       "                                                 num_parallel_tree=None, ...))</pre><b>In a Jupyter environment, please rerun this cell to show the HTML representation or trust the notebook. <br />On GitHub, the HTML representation is unable to render, please try loading this page with nbviewer.org.</b></div><div class=\"sk-container\" hidden><div class=\"sk-item sk-dashed-wrapped\"><div class=\"sk-label-container\"><div class=\"sk-label sk-toggleable\"><input class=\"sk-toggleable__control sk-hidden--visually\" id=\"sk-estimator-id-1\" type=\"checkbox\" ><label for=\"sk-estimator-id-1\" class=\"sk-toggleable__label sk-toggleable__label-arrow\">StackingClassifier</label><div class=\"sk-toggleable__content\"><pre>StackingClassifier(cv=10,\n",
       "                   estimators=[(&#x27;LGBM&#x27;,\n",
       "                                LGBMClassifier(class_weight={0: 1.237861237861238,\n",
       "                                                             1: 2.255863539445629,\n",
       "                                                             2: 0.7909097705016073,\n",
       "                                                             3: 4.723214285714286,\n",
       "                                                             4: 5.597883597883598,\n",
       "                                                             5: 0.5854846296450015,\n",
       "                                                             6: 0.4190845893327524},\n",
       "                                               colsample_bynode=0.5443098861233086,\n",
       "                                               colsample_bytree=0.866501494211133,\n",
       "                                               learning_rate=0.005613916463106189,\n",
       "                                               max_depth=6,\n",
       "                                               metric=&#x27;multi_...\n",
       "                                                 gamma=0.16282691057583543,\n",
       "                                                 grow_policy=None,\n",
       "                                                 importance_type=None,\n",
       "                                                 interaction_constraints=None,\n",
       "                                                 learning_rate=0.010260565670497695,\n",
       "                                                 max_bin=None,\n",
       "                                                 max_cat_threshold=None,\n",
       "                                                 max_cat_to_onehot=None,\n",
       "                                                 max_delta_step=None,\n",
       "                                                 max_depth=5, max_leaves=None,\n",
       "                                                 min_child_weight=2,\n",
       "                                                 missing=nan,\n",
       "                                                 monotone_constraints=None,\n",
       "                                                 multi_strategy=None,\n",
       "                                                 n_estimators=829, n_jobs=None,\n",
       "                                                 num_parallel_tree=None, ...))</pre></div></div></div><div class=\"sk-serial\"><div class=\"sk-item\"><div class=\"sk-parallel\"><div class=\"sk-parallel-item\"><div class=\"sk-item\"><div class=\"sk-label-container\"><div class=\"sk-label sk-toggleable\"><label>LGBM</label></div></div><div class=\"sk-serial\"><div class=\"sk-item\"><div class=\"sk-estimator sk-toggleable\"><input class=\"sk-toggleable__control sk-hidden--visually\" id=\"sk-estimator-id-2\" type=\"checkbox\" ><label for=\"sk-estimator-id-2\" class=\"sk-toggleable__label sk-toggleable__label-arrow\">LGBMClassifier</label><div class=\"sk-toggleable__content\"><pre>LGBMClassifier(class_weight={0: 1.237861237861238, 1: 2.255863539445629,\n",
       "                             2: 0.7909097705016073, 3: 4.723214285714286,\n",
       "                             4: 5.597883597883598, 5: 0.5854846296450015,\n",
       "                             6: 0.4190845893327524},\n",
       "               colsample_bynode=0.5443098861233086,\n",
       "               colsample_bytree=0.866501494211133,\n",
       "               learning_rate=0.005613916463106189, max_depth=6,\n",
       "               metric=&#x27;multi_logloss&#x27;, min_split_gain=0.05539710161546875,\n",
       "               n_estimators=752, num_class=7, num_leaves=252,\n",
       "               objective=&#x27;multiclass&#x27;, random_state=42,\n",
       "               reg_alpha=0.0024787490924597882, reg_lambda=3.5334079815178954,\n",
       "               subsample=0.6045538705062335, verbosity=-1)</pre></div></div></div></div></div></div><div class=\"sk-parallel-item\"><div class=\"sk-item\"><div class=\"sk-label-container\"><div class=\"sk-label sk-toggleable\"><label>CAT</label></div></div><div class=\"sk-serial\"><div class=\"sk-item\"><div class=\"sk-estimator sk-toggleable\"><input class=\"sk-toggleable__control sk-hidden--visually\" id=\"sk-estimator-id-3\" type=\"checkbox\" ><label for=\"sk-estimator-id-3\" class=\"sk-toggleable__label sk-toggleable__label-arrow\">CatBoostClassifier</label><div class=\"sk-toggleable__content\"><pre>&lt;catboost.core.CatBoostClassifier object at 0x7c2206b2c6d0&gt;</pre></div></div></div></div></div></div></div></div><div class=\"sk-item\"><div class=\"sk-parallel\"><div class=\"sk-parallel-item\"><div class=\"sk-item\"><div class=\"sk-label-container\"><div class=\"sk-label sk-toggleable\"><label>final_estimator</label></div></div><div class=\"sk-serial\"><div class=\"sk-item\"><div class=\"sk-estimator sk-toggleable\"><input class=\"sk-toggleable__control sk-hidden--visually\" id=\"sk-estimator-id-4\" type=\"checkbox\" ><label for=\"sk-estimator-id-4\" class=\"sk-toggleable__label sk-toggleable__label-arrow\">XGBClassifier</label><div class=\"sk-toggleable__content\"><pre>XGBClassifier(base_score=None, booster=None, callbacks=None,\n",
       "              class_weight={0: 1.237861237861238, 1: 2.255863539445629,\n",
       "                            2: 0.7909097705016073, 3: 4.723214285714286,\n",
       "                            4: 5.597883597883598, 5: 0.5854846296450015,\n",
       "                            6: 0.4190845893327524},\n",
       "              colsample_bylevel=None, colsample_bynode=None,\n",
       "              colsample_bytree=0.5115061295805807, device=None,\n",
       "              early_stopping_rounds=None, enable_categor...\n",
       "              eval_metric=None, feature_types=None, gamma=0.16282691057583543,\n",
       "              grow_policy=None, importance_type=None,\n",
       "              interaction_constraints=None, learning_rate=0.010260565670497695,\n",
       "              max_bin=None, max_cat_threshold=None, max_cat_to_onehot=None,\n",
       "              max_delta_step=None, max_depth=5, max_leaves=None,\n",
       "              min_child_weight=2, missing=nan, monotone_constraints=None,\n",
       "              multi_strategy=None, n_estimators=829, n_jobs=None,\n",
       "              num_parallel_tree=None, ...)</pre></div></div></div></div></div></div></div></div></div></div></div></div>"
      ],
      "text/plain": [
       "StackingClassifier(cv=10,\n",
       "                   estimators=[('LGBM',\n",
       "                                LGBMClassifier(class_weight={0: 1.237861237861238,\n",
       "                                                             1: 2.255863539445629,\n",
       "                                                             2: 0.7909097705016073,\n",
       "                                                             3: 4.723214285714286,\n",
       "                                                             4: 5.597883597883598,\n",
       "                                                             5: 0.5854846296450015,\n",
       "                                                             6: 0.4190845893327524},\n",
       "                                               colsample_bynode=0.5443098861233086,\n",
       "                                               colsample_bytree=0.866501494211133,\n",
       "                                               learning_rate=0.005613916463106189,\n",
       "                                               max_depth=6,\n",
       "                                               metric='multi_...\n",
       "                                                 gamma=0.16282691057583543,\n",
       "                                                 grow_policy=None,\n",
       "                                                 importance_type=None,\n",
       "                                                 interaction_constraints=None,\n",
       "                                                 learning_rate=0.010260565670497695,\n",
       "                                                 max_bin=None,\n",
       "                                                 max_cat_threshold=None,\n",
       "                                                 max_cat_to_onehot=None,\n",
       "                                                 max_delta_step=None,\n",
       "                                                 max_depth=5, max_leaves=None,\n",
       "                                                 min_child_weight=2,\n",
       "                                                 missing=nan,\n",
       "                                                 monotone_constraints=None,\n",
       "                                                 multi_strategy=None,\n",
       "                                                 n_estimators=829, n_jobs=None,\n",
       "                                                 num_parallel_tree=None, ...))"
      ]
     },
     "execution_count": 30,
     "metadata": {},
     "output_type": "execute_result"
    }
   ],
   "source": [
    "stacking_classifier = StackingClassifier(\n",
    "    estimators = stacking_estimators[1:],\n",
    "    cv=10,\n",
    "    final_estimator=stacking_estimators[0][1]\n",
    ")\n",
    "stacking_classifier.fit(X_sc, label_encoded_targets)"
   ]
  },
  {
   "cell_type": "code",
   "execution_count": 31,
   "id": "77e8cd3f",
   "metadata": {
    "execution": {
     "iopub.execute_input": "2024-03-05T15:05:44.867701Z",
     "iopub.status.busy": "2024-03-05T15:05:44.867060Z",
     "iopub.status.idle": "2024-03-05T15:05:54.688500Z",
     "shell.execute_reply": "2024-03-05T15:05:54.686969Z"
    },
    "papermill": {
     "duration": 9.84489,
     "end_time": "2024-03-05T15:05:54.690838",
     "exception": false,
     "start_time": "2024-03-05T15:05:44.845948",
     "status": "completed"
    },
    "tags": []
   },
   "outputs": [
    {
     "data": {
      "text/plain": [
       "array([[6.02386653e-01, 2.59243394e-03, 3.46971513e-03, ...,\n",
       "        3.86944599e-02, 8.81510749e-02, 2.62917638e-01],\n",
       "       [2.94828236e-01, 5.78220654e-03, 5.77266607e-03, ...,\n",
       "        1.78428173e-01, 1.59372509e-01, 3.53271842e-01],\n",
       "       [1.09716624e-01, 4.19683307e-02, 3.75740454e-02, ...,\n",
       "        6.72611455e-03, 3.05618227e-01, 4.96372551e-01],\n",
       "       ...,\n",
       "       [1.01431990e-02, 8.58855667e-04, 9.37421083e-01, ...,\n",
       "        8.33032653e-04, 1.25902635e-03, 4.87043113e-02],\n",
       "       [4.08887088e-01, 5.81973465e-03, 2.15831529e-02, ...,\n",
       "        8.10695812e-02, 1.36555701e-01, 3.43908876e-01],\n",
       "       [1.59967393e-02, 1.47087756e-03, 9.05393243e-01, ...,\n",
       "        1.19159499e-03, 1.89477636e-03, 7.31161609e-02]], dtype=float32)"
      ]
     },
     "execution_count": 31,
     "metadata": {},
     "output_type": "execute_result"
    }
   ],
   "source": [
    "stacking_predicted_probs = stacking_classifier.predict_proba(test_sc)\n",
    "stacking_predicted_probs"
   ]
  },
  {
   "cell_type": "code",
   "execution_count": 32,
   "id": "018b9c12",
   "metadata": {
    "execution": {
     "iopub.execute_input": "2024-03-05T15:05:54.730670Z",
     "iopub.status.busy": "2024-03-05T15:05:54.730245Z",
     "iopub.status.idle": "2024-03-05T15:05:54.735894Z",
     "shell.execute_reply": "2024-03-05T15:05:54.734985Z"
    },
    "papermill": {
     "duration": 0.02808,
     "end_time": "2024-03-05T15:05:54.738008",
     "exception": false,
     "start_time": "2024-03-05T15:05:54.709928",
     "status": "completed"
    },
    "tags": []
   },
   "outputs": [],
   "source": [
    "all_predicted_probs = np.array([voting_predicted_probs, stacking_predicted_probs])\n",
    "predicted_probs = np.mean(all_predicted_probs, axis=0)"
   ]
  },
  {
   "cell_type": "code",
   "execution_count": 33,
   "id": "555517b8",
   "metadata": {
    "execution": {
     "iopub.execute_input": "2024-03-05T15:05:54.779188Z",
     "iopub.status.busy": "2024-03-05T15:05:54.778367Z",
     "iopub.status.idle": "2024-03-05T15:05:54.784626Z",
     "shell.execute_reply": "2024-03-05T15:05:54.783839Z"
    },
    "papermill": {
     "duration": 0.029251,
     "end_time": "2024-03-05T15:05:54.786703",
     "exception": false,
     "start_time": "2024-03-05T15:05:54.757452",
     "status": "completed"
    },
    "tags": []
   },
   "outputs": [
    {
     "data": {
      "text/plain": [
       "(12814, 7)"
      ]
     },
     "execution_count": 33,
     "metadata": {},
     "output_type": "execute_result"
    }
   ],
   "source": [
    "predicted_probs.shape"
   ]
  },
  {
   "cell_type": "markdown",
   "id": "7d0fa80d",
   "metadata": {
    "papermill": {
     "duration": 0.018792,
     "end_time": "2024-03-05T15:05:54.824486",
     "exception": false,
     "start_time": "2024-03-05T15:05:54.805694",
     "status": "completed"
    },
    "tags": []
   },
   "source": [
    "# Submission"
   ]
  },
  {
   "cell_type": "code",
   "execution_count": 34,
   "id": "1af7e15f",
   "metadata": {
    "execution": {
     "iopub.execute_input": "2024-03-05T15:05:54.865276Z",
     "iopub.status.busy": "2024-03-05T15:05:54.864555Z",
     "iopub.status.idle": "2024-03-05T15:05:54.931933Z",
     "shell.execute_reply": "2024-03-05T15:05:54.930897Z"
    },
    "papermill": {
     "duration": 0.090472,
     "end_time": "2024-03-05T15:05:54.934135",
     "exception": false,
     "start_time": "2024-03-05T15:05:54.843663",
     "status": "completed"
    },
    "tags": []
   },
   "outputs": [
    {
     "data": {
      "text/html": [
       "<div>\n",
       "<style scoped>\n",
       "    .dataframe tbody tr th:only-of-type {\n",
       "        vertical-align: middle;\n",
       "    }\n",
       "\n",
       "    .dataframe tbody tr th {\n",
       "        vertical-align: top;\n",
       "    }\n",
       "\n",
       "    .dataframe thead th {\n",
       "        text-align: right;\n",
       "    }\n",
       "</style>\n",
       "<table border=\"1\" class=\"dataframe\">\n",
       "  <thead>\n",
       "    <tr style=\"text-align: right;\">\n",
       "      <th></th>\n",
       "      <th>id</th>\n",
       "      <th>Pastry</th>\n",
       "      <th>Z_Scratch</th>\n",
       "      <th>K_Scatch</th>\n",
       "      <th>Stains</th>\n",
       "      <th>Dirtiness</th>\n",
       "      <th>Bumps</th>\n",
       "      <th>Other_Faults</th>\n",
       "    </tr>\n",
       "  </thead>\n",
       "  <tbody>\n",
       "    <tr>\n",
       "      <th>0</th>\n",
       "      <td>19219</td>\n",
       "      <td>0.5</td>\n",
       "      <td>0.5</td>\n",
       "      <td>0.5</td>\n",
       "      <td>0.5</td>\n",
       "      <td>0.5</td>\n",
       "      <td>0.5</td>\n",
       "      <td>0.5</td>\n",
       "    </tr>\n",
       "    <tr>\n",
       "      <th>1</th>\n",
       "      <td>19220</td>\n",
       "      <td>0.5</td>\n",
       "      <td>0.5</td>\n",
       "      <td>0.5</td>\n",
       "      <td>0.5</td>\n",
       "      <td>0.5</td>\n",
       "      <td>0.5</td>\n",
       "      <td>0.5</td>\n",
       "    </tr>\n",
       "    <tr>\n",
       "      <th>2</th>\n",
       "      <td>19221</td>\n",
       "      <td>0.5</td>\n",
       "      <td>0.5</td>\n",
       "      <td>0.5</td>\n",
       "      <td>0.5</td>\n",
       "      <td>0.5</td>\n",
       "      <td>0.5</td>\n",
       "      <td>0.5</td>\n",
       "    </tr>\n",
       "    <tr>\n",
       "      <th>3</th>\n",
       "      <td>19222</td>\n",
       "      <td>0.5</td>\n",
       "      <td>0.5</td>\n",
       "      <td>0.5</td>\n",
       "      <td>0.5</td>\n",
       "      <td>0.5</td>\n",
       "      <td>0.5</td>\n",
       "      <td>0.5</td>\n",
       "    </tr>\n",
       "    <tr>\n",
       "      <th>4</th>\n",
       "      <td>19223</td>\n",
       "      <td>0.5</td>\n",
       "      <td>0.5</td>\n",
       "      <td>0.5</td>\n",
       "      <td>0.5</td>\n",
       "      <td>0.5</td>\n",
       "      <td>0.5</td>\n",
       "      <td>0.5</td>\n",
       "    </tr>\n",
       "    <tr>\n",
       "      <th>...</th>\n",
       "      <td>...</td>\n",
       "      <td>...</td>\n",
       "      <td>...</td>\n",
       "      <td>...</td>\n",
       "      <td>...</td>\n",
       "      <td>...</td>\n",
       "      <td>...</td>\n",
       "      <td>...</td>\n",
       "    </tr>\n",
       "    <tr>\n",
       "      <th>12809</th>\n",
       "      <td>32028</td>\n",
       "      <td>0.5</td>\n",
       "      <td>0.5</td>\n",
       "      <td>0.5</td>\n",
       "      <td>0.5</td>\n",
       "      <td>0.5</td>\n",
       "      <td>0.5</td>\n",
       "      <td>0.5</td>\n",
       "    </tr>\n",
       "    <tr>\n",
       "      <th>12810</th>\n",
       "      <td>32029</td>\n",
       "      <td>0.5</td>\n",
       "      <td>0.5</td>\n",
       "      <td>0.5</td>\n",
       "      <td>0.5</td>\n",
       "      <td>0.5</td>\n",
       "      <td>0.5</td>\n",
       "      <td>0.5</td>\n",
       "    </tr>\n",
       "    <tr>\n",
       "      <th>12811</th>\n",
       "      <td>32030</td>\n",
       "      <td>0.5</td>\n",
       "      <td>0.5</td>\n",
       "      <td>0.5</td>\n",
       "      <td>0.5</td>\n",
       "      <td>0.5</td>\n",
       "      <td>0.5</td>\n",
       "      <td>0.5</td>\n",
       "    </tr>\n",
       "    <tr>\n",
       "      <th>12812</th>\n",
       "      <td>32031</td>\n",
       "      <td>0.5</td>\n",
       "      <td>0.5</td>\n",
       "      <td>0.5</td>\n",
       "      <td>0.5</td>\n",
       "      <td>0.5</td>\n",
       "      <td>0.5</td>\n",
       "      <td>0.5</td>\n",
       "    </tr>\n",
       "    <tr>\n",
       "      <th>12813</th>\n",
       "      <td>32032</td>\n",
       "      <td>0.5</td>\n",
       "      <td>0.5</td>\n",
       "      <td>0.5</td>\n",
       "      <td>0.5</td>\n",
       "      <td>0.5</td>\n",
       "      <td>0.5</td>\n",
       "      <td>0.5</td>\n",
       "    </tr>\n",
       "  </tbody>\n",
       "</table>\n",
       "<p>12814 rows × 8 columns</p>\n",
       "</div>"
      ],
      "text/plain": [
       "          id  Pastry  Z_Scratch  K_Scatch  Stains  Dirtiness  Bumps  \\\n",
       "0      19219     0.5        0.5       0.5     0.5        0.5    0.5   \n",
       "1      19220     0.5        0.5       0.5     0.5        0.5    0.5   \n",
       "2      19221     0.5        0.5       0.5     0.5        0.5    0.5   \n",
       "3      19222     0.5        0.5       0.5     0.5        0.5    0.5   \n",
       "4      19223     0.5        0.5       0.5     0.5        0.5    0.5   \n",
       "...      ...     ...        ...       ...     ...        ...    ...   \n",
       "12809  32028     0.5        0.5       0.5     0.5        0.5    0.5   \n",
       "12810  32029     0.5        0.5       0.5     0.5        0.5    0.5   \n",
       "12811  32030     0.5        0.5       0.5     0.5        0.5    0.5   \n",
       "12812  32031     0.5        0.5       0.5     0.5        0.5    0.5   \n",
       "12813  32032     0.5        0.5       0.5     0.5        0.5    0.5   \n",
       "\n",
       "       Other_Faults  \n",
       "0               0.5  \n",
       "1               0.5  \n",
       "2               0.5  \n",
       "3               0.5  \n",
       "4               0.5  \n",
       "...             ...  \n",
       "12809           0.5  \n",
       "12810           0.5  \n",
       "12811           0.5  \n",
       "12812           0.5  \n",
       "12813           0.5  \n",
       "\n",
       "[12814 rows x 8 columns]"
      ]
     },
     "execution_count": 34,
     "metadata": {},
     "output_type": "execute_result"
    }
   ],
   "source": [
    "submission_df = pd.read_csv('/kaggle/input/playground-series-s4e3/sample_submission.csv')\n",
    "submission_df"
   ]
  },
  {
   "cell_type": "code",
   "execution_count": 35,
   "id": "9856bf03",
   "metadata": {
    "execution": {
     "iopub.execute_input": "2024-03-05T15:05:54.975311Z",
     "iopub.status.busy": "2024-03-05T15:05:54.974579Z",
     "iopub.status.idle": "2024-03-05T15:05:54.993854Z",
     "shell.execute_reply": "2024-03-05T15:05:54.992968Z"
    },
    "papermill": {
     "duration": 0.042493,
     "end_time": "2024-03-05T15:05:54.996049",
     "exception": false,
     "start_time": "2024-03-05T15:05:54.953556",
     "status": "completed"
    },
    "tags": []
   },
   "outputs": [
    {
     "data": {
      "text/html": [
       "<div>\n",
       "<style scoped>\n",
       "    .dataframe tbody tr th:only-of-type {\n",
       "        vertical-align: middle;\n",
       "    }\n",
       "\n",
       "    .dataframe tbody tr th {\n",
       "        vertical-align: top;\n",
       "    }\n",
       "\n",
       "    .dataframe thead th {\n",
       "        text-align: right;\n",
       "    }\n",
       "</style>\n",
       "<table border=\"1\" class=\"dataframe\">\n",
       "  <thead>\n",
       "    <tr style=\"text-align: right;\">\n",
       "      <th></th>\n",
       "      <th>id</th>\n",
       "      <th>Pastry</th>\n",
       "      <th>Z_Scratch</th>\n",
       "      <th>K_Scatch</th>\n",
       "      <th>Stains</th>\n",
       "      <th>Dirtiness</th>\n",
       "      <th>Bumps</th>\n",
       "      <th>Other_Faults</th>\n",
       "    </tr>\n",
       "  </thead>\n",
       "  <tbody>\n",
       "    <tr>\n",
       "      <th>0</th>\n",
       "      <td>19219</td>\n",
       "      <td>0.569575</td>\n",
       "      <td>0.003017</td>\n",
       "      <td>0.004707</td>\n",
       "      <td>0.001692</td>\n",
       "      <td>0.031912</td>\n",
       "      <td>0.117304</td>\n",
       "      <td>0.271793</td>\n",
       "    </tr>\n",
       "    <tr>\n",
       "      <th>1</th>\n",
       "      <td>19220</td>\n",
       "      <td>0.284438</td>\n",
       "      <td>0.015541</td>\n",
       "      <td>0.009194</td>\n",
       "      <td>0.002238</td>\n",
       "      <td>0.187193</td>\n",
       "      <td>0.157372</td>\n",
       "      <td>0.344025</td>\n",
       "    </tr>\n",
       "    <tr>\n",
       "      <th>2</th>\n",
       "      <td>19221</td>\n",
       "      <td>0.105566</td>\n",
       "      <td>0.046012</td>\n",
       "      <td>0.039660</td>\n",
       "      <td>0.002285</td>\n",
       "      <td>0.009256</td>\n",
       "      <td>0.297947</td>\n",
       "      <td>0.499274</td>\n",
       "    </tr>\n",
       "    <tr>\n",
       "      <th>3</th>\n",
       "      <td>19222</td>\n",
       "      <td>0.174647</td>\n",
       "      <td>0.004060</td>\n",
       "      <td>0.002107</td>\n",
       "      <td>0.002196</td>\n",
       "      <td>0.011798</td>\n",
       "      <td>0.396861</td>\n",
       "      <td>0.408332</td>\n",
       "    </tr>\n",
       "    <tr>\n",
       "      <th>4</th>\n",
       "      <td>19223</td>\n",
       "      <td>0.054523</td>\n",
       "      <td>0.003913</td>\n",
       "      <td>0.001907</td>\n",
       "      <td>0.002396</td>\n",
       "      <td>0.007798</td>\n",
       "      <td>0.607320</td>\n",
       "      <td>0.322142</td>\n",
       "    </tr>\n",
       "    <tr>\n",
       "      <th>...</th>\n",
       "      <td>...</td>\n",
       "      <td>...</td>\n",
       "      <td>...</td>\n",
       "      <td>...</td>\n",
       "      <td>...</td>\n",
       "      <td>...</td>\n",
       "      <td>...</td>\n",
       "      <td>...</td>\n",
       "    </tr>\n",
       "    <tr>\n",
       "      <th>12809</th>\n",
       "      <td>32028</td>\n",
       "      <td>0.166052</td>\n",
       "      <td>0.106228</td>\n",
       "      <td>0.005092</td>\n",
       "      <td>0.002027</td>\n",
       "      <td>0.040326</td>\n",
       "      <td>0.232685</td>\n",
       "      <td>0.447590</td>\n",
       "    </tr>\n",
       "    <tr>\n",
       "      <th>12810</th>\n",
       "      <td>32029</td>\n",
       "      <td>0.185663</td>\n",
       "      <td>0.005770</td>\n",
       "      <td>0.020647</td>\n",
       "      <td>0.010428</td>\n",
       "      <td>0.182098</td>\n",
       "      <td>0.176465</td>\n",
       "      <td>0.418929</td>\n",
       "    </tr>\n",
       "    <tr>\n",
       "      <th>12811</th>\n",
       "      <td>32030</td>\n",
       "      <td>0.010990</td>\n",
       "      <td>0.000941</td>\n",
       "      <td>0.935503</td>\n",
       "      <td>0.000730</td>\n",
       "      <td>0.000932</td>\n",
       "      <td>0.001372</td>\n",
       "      <td>0.049533</td>\n",
       "    </tr>\n",
       "    <tr>\n",
       "      <th>12812</th>\n",
       "      <td>32031</td>\n",
       "      <td>0.425730</td>\n",
       "      <td>0.010685</td>\n",
       "      <td>0.022364</td>\n",
       "      <td>0.001950</td>\n",
       "      <td>0.083465</td>\n",
       "      <td>0.133067</td>\n",
       "      <td>0.322739</td>\n",
       "    </tr>\n",
       "    <tr>\n",
       "      <th>12813</th>\n",
       "      <td>32032</td>\n",
       "      <td>0.020557</td>\n",
       "      <td>0.002650</td>\n",
       "      <td>0.909665</td>\n",
       "      <td>0.000820</td>\n",
       "      <td>0.001274</td>\n",
       "      <td>0.001833</td>\n",
       "      <td>0.063201</td>\n",
       "    </tr>\n",
       "  </tbody>\n",
       "</table>\n",
       "<p>12814 rows × 8 columns</p>\n",
       "</div>"
      ],
      "text/plain": [
       "          id    Pastry  Z_Scratch  K_Scatch    Stains  Dirtiness     Bumps  \\\n",
       "0      19219  0.569575   0.003017  0.004707  0.001692   0.031912  0.117304   \n",
       "1      19220  0.284438   0.015541  0.009194  0.002238   0.187193  0.157372   \n",
       "2      19221  0.105566   0.046012  0.039660  0.002285   0.009256  0.297947   \n",
       "3      19222  0.174647   0.004060  0.002107  0.002196   0.011798  0.396861   \n",
       "4      19223  0.054523   0.003913  0.001907  0.002396   0.007798  0.607320   \n",
       "...      ...       ...        ...       ...       ...        ...       ...   \n",
       "12809  32028  0.166052   0.106228  0.005092  0.002027   0.040326  0.232685   \n",
       "12810  32029  0.185663   0.005770  0.020647  0.010428   0.182098  0.176465   \n",
       "12811  32030  0.010990   0.000941  0.935503  0.000730   0.000932  0.001372   \n",
       "12812  32031  0.425730   0.010685  0.022364  0.001950   0.083465  0.133067   \n",
       "12813  32032  0.020557   0.002650  0.909665  0.000820   0.001274  0.001833   \n",
       "\n",
       "       Other_Faults  \n",
       "0          0.271793  \n",
       "1          0.344025  \n",
       "2          0.499274  \n",
       "3          0.408332  \n",
       "4          0.322142  \n",
       "...             ...  \n",
       "12809      0.447590  \n",
       "12810      0.418929  \n",
       "12811      0.049533  \n",
       "12812      0.322739  \n",
       "12813      0.063201  \n",
       "\n",
       "[12814 rows x 8 columns]"
      ]
     },
     "execution_count": 35,
     "metadata": {},
     "output_type": "execute_result"
    }
   ],
   "source": [
    "submission_df[target_variables] = predicted_probs\n",
    "submission_df"
   ]
  },
  {
   "cell_type": "code",
   "execution_count": 36,
   "id": "31278f05",
   "metadata": {
    "execution": {
     "iopub.execute_input": "2024-03-05T15:05:55.037388Z",
     "iopub.status.busy": "2024-03-05T15:05:55.036705Z",
     "iopub.status.idle": "2024-03-05T15:05:55.272680Z",
     "shell.execute_reply": "2024-03-05T15:05:55.271669Z"
    },
    "papermill": {
     "duration": 0.259765,
     "end_time": "2024-03-05T15:05:55.275399",
     "exception": false,
     "start_time": "2024-03-05T15:05:55.015634",
     "status": "completed"
    },
    "tags": []
   },
   "outputs": [],
   "source": [
    "submission_df.to_csv(\"submission.csv\", index=False)"
   ]
  }
 ],
 "metadata": {
  "kaggle": {
   "accelerator": "none",
   "dataSources": [
    {
     "databundleVersionId": 7659021,
     "sourceId": 68699,
     "sourceType": "competition"
    },
    {
     "datasetId": 4518789,
     "sourceId": 7732978,
     "sourceType": "datasetVersion"
    }
   ],
   "dockerImageVersionId": 30664,
   "isGpuEnabled": false,
   "isInternetEnabled": true,
   "language": "python",
   "sourceType": "notebook"
  },
  "kernelspec": {
   "display_name": "Python 3",
   "language": "python",
   "name": "python3"
  },
  "language_info": {
   "codemirror_mode": {
    "name": "ipython",
    "version": 3
   },
   "file_extension": ".py",
   "mimetype": "text/x-python",
   "name": "python",
   "nbconvert_exporter": "python",
   "pygments_lexer": "ipython3",
   "version": "3.10.13"
  },
  "papermill": {
   "default_parameters": {},
   "duration": 905.102782,
   "end_time": "2024-03-05T15:05:56.322823",
   "environment_variables": {},
   "exception": null,
   "input_path": "__notebook__.ipynb",
   "output_path": "__notebook__.ipynb",
   "parameters": {},
   "start_time": "2024-03-05T14:50:51.220041",
   "version": "2.5.0"
  }
 },
 "nbformat": 4,
 "nbformat_minor": 5
}
